{
 "cells": [
  {
   "cell_type": "code",
   "execution_count": 2,
   "metadata": {},
   "outputs": [],
   "source": [
    "import pandas as pd\n",
    "import numpy as np\n",
    "from sklearn.model_selection import train_test_split"
   ]
  },
  {
   "cell_type": "code",
   "execution_count": 104,
   "metadata": {},
   "outputs": [],
   "source": [
    "from keras.utils.np_utils import to_categorical\n",
    "from sklearn import preprocessing\n",
    "from keras.preprocessing.text import Tokenizer\n",
    "from keras import optimizers\n",
    "from keras.preprocessing.sequence import pad_sequences\n",
    "from keras.layers import Dense, Input, Activation, LSTM, GRU, GlobalMaxPool1D, Embedding, Dropout, Conv1D\n",
    "from keras.models import Model, Sequential\n",
    "#from keras import initializers, regularizers, constraints\n",
    "from keras.preprocessing import text, sequence\n",
    "\n",
    "from keras import backend\n",
    "backend.clear_session()\n",
    "\n",
    "from sklearn.model_selection import GridSearchCV\n",
    "from keras.wrappers.scikit_learn import KerasClassifier"
   ]
  },
  {
   "cell_type": "code",
   "execution_count": null,
   "metadata": {},
   "outputs": [],
   "source": [
    "#keras.optimizers.Adam(lr=0.001, beta_1=0.9, beta_2=0.999, epsilon=None, decay=0.0, amsgrad=False)"
   ]
  },
  {
   "cell_type": "code",
   "execution_count": null,
   "metadata": {},
   "outputs": [],
   "source": [
    "optimizers.Adam()"
   ]
  },
  {
   "cell_type": "code",
   "execution_count": 1,
   "metadata": {},
   "outputs": [],
   "source": [
    "import os\n",
    "os.environ['KMP_DUPLICATE_LIB_OK'] = 'True'"
   ]
  },
  {
   "cell_type": "code",
   "execution_count": 96,
   "metadata": {},
   "outputs": [],
   "source": [
    "df = pd.read_csv('data/drug_review_clean.csv')"
   ]
  },
  {
   "cell_type": "code",
   "execution_count": 97,
   "metadata": {},
   "outputs": [],
   "source": [
    "df = pd.concat([\n",
    "                df[df.condition=='Depression'][:2000], \n",
    "                df[df.condition=='Birth Control'][:2000],\n",
    "                df[df.condition=='Pain'][:2000],\n",
    "                df[df.condition=='Anxiety'][:2000],\n",
    "                df[df.condition=='Acne'][:2000],\n",
    "                df[df.condition=='Bipolar Disorde'][:2000],\n",
    "                df[df.condition=='Insomnia'][:2000],\n",
    "                df[df.condition=='Weight Loss'][:2000],\n",
    "                df[df.condition=='Obesity'][:2000],\n",
    "                df[df.condition=='ADHD'][:2000]\n",
    "                ])[['condition','review']]"
   ]
  },
  {
   "cell_type": "code",
   "execution_count": 98,
   "metadata": {},
   "outputs": [
    {
     "data": {
      "text/plain": [
       "Acne               2000\n",
       "Weight Loss        2000\n",
       "Obesity            2000\n",
       "Depression         2000\n",
       "Anxiety            2000\n",
       "Birth Control      2000\n",
       "Insomnia           2000\n",
       "Bipolar Disorde    2000\n",
       "ADHD               2000\n",
       "Pain               2000\n",
       "Name: condition, dtype: int64"
      ]
     },
     "execution_count": 98,
     "metadata": {},
     "output_type": "execute_result"
    }
   ],
   "source": [
    "df.condition.value_counts()"
   ]
  },
  {
   "cell_type": "code",
   "execution_count": 99,
   "metadata": {},
   "outputs": [],
   "source": [
    "def hot_pad_sequences(text, num_words=2000, maxlen=100):    \n",
    "    tokenizer = Tokenizer(num_words)\n",
    "    tokenizer.fit_on_texts(list(text))\n",
    "    list_tokenized_headlines = tokenizer.texts_to_sequences(text)\n",
    "    return sequence.pad_sequences(list_tokenized_headlines, maxlen)"
   ]
  },
  {
   "cell_type": "code",
   "execution_count": 100,
   "metadata": {},
   "outputs": [],
   "source": [
    "def hot_label_encoding(labels):\n",
    "    le = preprocessing.LabelEncoder()\n",
    "    le.fit(labels)\n",
    "    labels_cat = le.transform(labels)\n",
    "    return to_categorical(labels_cat) "
   ]
  },
  {
   "cell_type": "code",
   "execution_count": 101,
   "metadata": {},
   "outputs": [],
   "source": [
    "X_t = hot_pad_sequences(df.review, num_words=2000, maxlen=100)\n",
    "y = hot_label_encoding(df.condition)"
   ]
  },
  {
   "cell_type": "code",
   "execution_count": 102,
   "metadata": {},
   "outputs": [],
   "source": [
    "train, test, label_train, label_test = train_test_split(X_t, y, test_size=0.2, random_state=42)"
   ]
  },
  {
   "cell_type": "code",
   "execution_count": 94,
   "metadata": {},
   "outputs": [
    {
     "name": "stderr",
     "output_type": "stream",
     "text": [
      "/Users/seanbird/anaconda3/lib/python3.7/site-packages/sklearn/model_selection/_split.py:2053: FutureWarning: You should specify a value for 'cv' instead of relying on the default value. The default value will change from 3 to 5 in version 0.22.\n",
      "  warnings.warn(CV_WARNING, FutureWarning)\n"
     ]
    },
    {
     "name": "stdout",
     "output_type": "stream",
     "text": [
      "Best: 0.739375 using {'batch_size': 50, 'dropout_rate': 0.1, 'epochs': 5, 'lr': 0.01, 'neurons': 50, 'validation_split': 0.1}\n"
     ]
    }
   ],
   "source": [
    "def create_model(dropout_rate=0.2, lr=0.001, neurons=40):\n",
    "    \n",
    "    backend.clear_session()\n",
    "    embedding_size = 128\n",
    "    input_ = Input(shape=(100,))\n",
    "    x = Embedding(4000, embedding_size)(input_)\n",
    "    x = LSTM(25, return_sequences=True)(x)\n",
    "    x = GlobalMaxPool1D()(x)\n",
    "    x = Dropout(dropout_rate)(x)\n",
    "    x = Dense(neurons, activation='relu')(x)\n",
    "    x = Dropout(dropout_rate)(x)\n",
    "    x = Dense(10, activation='softmax')(x)\n",
    "\n",
    "    model = Model(inputs=input_, outputs=x)\n",
    "    \n",
    "    optimizer = optimizers.Adam(lr=lr)\n",
    "    model.compile(loss='categorical_crossentropy', optimizer=optimizer, metrics=['accuracy'])\n",
    "    \n",
    "    return model\n",
    " \n",
    "model = KerasClassifier(build_fn=create_model)\n",
    "\n",
    "param_grid = dict(\n",
    "                    lr = [0.01, 0.1], \n",
    "                    batch_size = [40, 50], \n",
    "                    epochs = [5], \n",
    "                    validation_split = [0.1],\n",
    "                    neurons = [50, 60],\n",
    "                    dropout_rate = [0.1, 0.3]\n",
    "                    )\n",
    "\n",
    "grid = GridSearchCV(estimator=model, param_grid=param_grid, n_jobs=-1)\n",
    "grid_result = grid.fit(train, label_train, verbose=0)\n",
    "\n",
    "\n",
    "print(\"Best: %f using %s\" % (grid_result.best_score_, grid_result.best_params_))"
   ]
  },
  {
   "cell_type": "code",
   "execution_count": 118,
   "metadata": {},
   "outputs": [
    {
     "name": "stdout",
     "output_type": "stream",
     "text": [
      "Train on 14400 samples, validate on 1600 samples\n",
      "Epoch 1/3\n",
      "14400/14400 [==============================] - 364s 25ms/step - loss: 1.1513 - acc: 0.5690 - val_loss: 0.7877 - val_acc: 0.7012\n",
      "Epoch 2/3\n",
      "14400/14400 [==============================] - 352s 24ms/step - loss: 0.7569 - acc: 0.7203 - val_loss: 0.7330 - val_acc: 0.7219\n",
      "Epoch 3/3\n",
      "14400/14400 [==============================] - 243s 17ms/step - loss: 0.7146 - acc: 0.7337 - val_loss: 0.7062 - val_acc: 0.7319\n"
     ]
    }
   ],
   "source": [
    "backend.clear_session()\n",
    "\n",
    "input_ = Input(shape=(100,))\n",
    "x = Embedding(2000, 120)(input_)\n",
    "x = LSTM(25, return_sequences=True)(x)\n",
    "x = GlobalMaxPool1D()(x)\n",
    "x = Dropout(0.1)(x)\n",
    "x = Dense(50, activation='relu')(x)\n",
    "x = Dropout(0.1)(x)\n",
    "x = Dense(10, activation='softmax')(x)\n",
    "\n",
    "model = Model(inputs=input_, outputs=x)\n",
    "\n",
    "optimizer = optimizers.Adam(lr=0.01)\n",
    "model.compile(loss='categorical_crossentropy', optimizer=optimizer, metrics=['accuracy'])\n",
    "\n",
    "history = model.fit(train, label_train, epochs=3, validation_split=0.1, batch_size=40)"
   ]
  },
  {
   "cell_type": "code",
   "execution_count": 77,
   "metadata": {},
   "outputs": [
    {
     "data": {
      "image/png": "[encoded data removed]",
      "text/plain": [
       "<Figure size 864x432 with 1 Axes>"
      ]
     },
     "metadata": {},
     "output_type": "display_data"
    }
   ],
   "source": [
    "import matplotlib.pyplot as plt\n",
    "#import seaborn as sns\n",
    "\n",
    "history_dict = history.history\n",
    "\n",
    "plt.style.use('seaborn-whitegrid')\n",
    "plt.figure(figsize=(12,6))\n",
    "\n",
    "epochs = range(1, len(history_dict['loss']) + 1)\n",
    "plt.plot(epochs, history_dict['loss'], 'g', label='Training loss')\n",
    "plt.plot(epochs, history_dict['val_loss'], 'blue', label='Validation loss')\n",
    "\n",
    "plt.plot(epochs, history_dict['acc'], 'r', label='Training Acc')\n",
    "plt.plot(epochs, history_dict['val_acc'], 'orange', label='Validation Acc')\n",
    "\n",
    "plt.title('Training & validation acc / loss',fontSize=14)\n",
    "plt.xlabel('Epochs')\n",
    "plt.ylabel('Acc / Loss')\n",
    "plt.legend()\n",
    "plt.show()"
   ]
  },
  {
   "cell_type": "code",
   "execution_count": 108,
   "metadata": {},
   "outputs": [
    {
     "name": "stdout",
     "output_type": "stream",
     "text": [
      "_________________________________________________________________\n",
      "Layer (type)                 Output Shape              Param #   \n",
      "=================================================================\n",
      "embedding_1 (Embedding)      (None, 100, 128)          256000    \n",
      "_________________________________________________________________\n",
      "conv1d_1 (Conv1D)            (None, 96, 128)           82048     \n",
      "_________________________________________________________________\n",
      "global_max_pooling1d_1 (Glob (None, 128)               0         \n",
      "_________________________________________________________________\n",
      "dropout_1 (Dropout)          (None, 128)               0         \n",
      "_________________________________________________________________\n",
      "dense_1 (Dense)              (None, 40)                5160      \n",
      "_________________________________________________________________\n",
      "dropout_2 (Dropout)          (None, 40)                0         \n",
      "_________________________________________________________________\n",
      "dense_2 (Dense)              (None, 10)                410       \n",
      "=================================================================\n",
      "Total params: 343,618\n",
      "Trainable params: 343,618\n",
      "Non-trainable params: 0\n",
      "_________________________________________________________________\n"
     ]
    }
   ],
   "source": [
    "backend.clear_session()\n",
    "\n",
    "model = Sequential()\n",
    "model.add(Embedding(2000, embedding_size, input_length=100))\n",
    "model.add(Conv1D(128, 5, activation='relu'))\n",
    "model.add(GlobalMaxPool1D())\n",
    "model.add(Dropout(0.1))\n",
    "model.add(Dense(40, activation='relu'))\n",
    "model.add(Dropout(0.1))\n",
    "model.add(Dense(10, activation='softmax'))\n",
    "\n",
    "model.compile(optimizer='adam', loss='categorical_crossentropy', metrics=['accuracy'])\n",
    "model.summary()"
   ]
  },
  {
   "cell_type": "code",
   "execution_count": 107,
   "metadata": {},
   "outputs": [
    {
     "name": "stdout",
     "output_type": "stream",
     "text": [
      "Train on 14400 samples, validate on 1600 samples\n",
      "Epoch 1/3\n",
      "14400/14400 [==============================] - 91s 6ms/step - loss: 1.3648 - acc: 0.5442 - val_loss: 0.8088 - val_acc: 0.7063\n",
      "Epoch 2/3\n",
      "14400/14400 [==============================] - 113s 8ms/step - loss: 0.6569 - acc: 0.7648 - val_loss: 0.6538 - val_acc: 0.7563\n",
      "Epoch 3/3\n",
      "14400/14400 [==============================] - 119s 8ms/step - loss: 0.4824 - acc: 0.8313 - val_loss: 0.6083 - val_acc: 0.7831\n"
     ]
    }
   ],
   "source": [
    "history = model.fit(train, label_train, epochs=3, validation_split=0.1, batch_size=40)"
   ]
  },
  {
   "cell_type": "code",
   "execution_count": 109,
   "metadata": {},
   "outputs": [
    {
     "name": "stdout",
     "output_type": "stream",
     "text": [
      "Train on 14400 samples, validate on 1600 samples\n",
      "Epoch 1/3\n",
      "14400/14400 [==============================] - 85s 6ms/step - loss: 1.4240 - acc: 0.5110 - val_loss: 0.7933 - val_acc: 0.7112\n",
      "Epoch 2/3\n",
      "14400/14400 [==============================] - 96s 7ms/step - loss: 0.7079 - acc: 0.7406 - val_loss: 0.6573 - val_acc: 0.7600\n",
      "Epoch 3/3\n",
      "14400/14400 [==============================] - 103s 7ms/step - loss: 0.5388 - acc: 0.8029 - val_loss: 0.6042 - val_acc: 0.7888\n"
     ]
    }
   ],
   "source": [
    "history = model.fit(train, label_train, epochs=3, validation_split=0.1, batch_size=40)"
   ]
  },
  {
   "cell_type": "code",
   "execution_count": null,
   "metadata": {},
   "outputs": [],
   "source": []
  }
 ],
 "metadata": {
  "kernelspec": {
   "display_name": "Python 3",
   "language": "python",
   "name": "python3"
  },
  "language_info": {
   "codemirror_mode": {
    "name": "ipython",
    "version": 3
   },
   "file_extension": ".py",
   "mimetype": "text/x-python",
   "name": "python",
   "nbconvert_exporter": "python",
   "pygments_lexer": "ipython3",
   "version": "3.7.1"
  }
 },
 "nbformat": 4,
 "nbformat_minor": 2
}
