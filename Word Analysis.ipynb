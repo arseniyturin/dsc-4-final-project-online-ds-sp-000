{
 "cells": [
  {
   "cell_type": "markdown",
   "metadata": {},
   "source": [
    "## Words Analysis using NLTK"
   ]
  },
  {
   "cell_type": "code",
   "execution_count": null,
   "metadata": {},
   "outputs": [],
   "source": [
    "def text_analysis(text):\n",
    "\n",
    "    tokenized = word_tokenize(text)\n",
    "\n",
    "    stopwords_list = stopwords.words('English')\n",
    "    stopwords_list += [i for i in string.punctuation]\n",
    "    stopwords_list += ['0','1','2','3','4','5','6','7','8','9']\n",
    "    text_stopped = [i for i in tokenized if i not in stopwords_list]\n",
    "\n",
    "    FreqDist(text_stopped).most_common()[:10]\n",
    "    \n",
    "    bigram_measures = nltk.collocations.BigramAssocMeasures()\n",
    "    review_finder = BigramCollocationFinder.from_words(text_stopped)\n",
    "    review_scored = review_finder.score_ngrams(bigram_measures.raw_freq)\n",
    "    review_scored[:10]\n",
    "    \n",
    "    review_pmi_finder = BigramCollocationFinder.from_words(text_stopped)\n",
    "    review_pmi_finder.apply_freq_filter(3)\n",
    "    review_pmi_scored = review_pmi_finder.score_ngrams(bigram_measures.pmi)\n",
    "    review_pmi_scored\n",
    "    \n",
    "    return FreqDist(text_stopped).most_common()[:10], review_scored[:10], review_pmi_scored[:30]"
   ]
  },
  {
   "cell_type": "code",
   "execution_count": null,
   "metadata": {},
   "outputs": [],
   "source": [
    "import gensim\n",
    "from gensim.models.phrases import Phrases, Phraser\n",
    "\n",
    "review_lines = list()\n",
    "prozak_reviews = drugs[(drugs.rating > 8) & (drugs.condition=='Birth Control')]['review'].values.tolist()\n",
    "\n",
    "for line in prozak_reviews:\n",
    "    tokens = word_tokenize(line)\n",
    "    #table = str.maketrans('','',string.punctuation)\n",
    "    #stripped = [w.translate(table) for w in tokens]\n",
    "    #words = [word for word in stripped if word.isalpha()]\n",
    "    #stop_words = set(stopwords.words('english'))\n",
    "    #words = [w for w in tokens if w not in stop_words]\n",
    "    review_lines.append(words)"
   ]
  },
  {
   "cell_type": "code",
   "execution_count": null,
   "metadata": {},
   "outputs": [],
   "source": [
    "genmodel = gensim.models.Word2Vec(sentences=review_lines, size=100, window=5, workers=4, min_count=1)\n",
    "#phrases = Phrases(sentences=review_lines, min_count=3, threshold=3)\n",
    "\n",
    "words = list(genmodel.wv.vocab)\n",
    "print('Voc size: %d' % len(words))\n",
    "#genmodel.save(\"birth_control.model\")"
   ]
  }
 ],
 "metadata": {
  "kernelspec": {
   "display_name": "Python 3",
   "language": "python",
   "name": "python3"
  },
  "language_info": {
   "codemirror_mode": {
    "name": "ipython",
    "version": 3
   },
   "file_extension": ".py",
   "mimetype": "text/x-python",
   "name": "python",
   "nbconvert_exporter": "python",
   "pygments_lexer": "ipython3",
   "version": "3.7.1"
  }
 },
 "nbformat": 4,
 "nbformat_minor": 2
}
