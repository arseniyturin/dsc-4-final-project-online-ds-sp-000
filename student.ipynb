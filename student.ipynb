{
 "cells": [
  {
   "cell_type": "markdown",
   "metadata": {},
   "source": [
    "## Final Project Submission\n",
    "\n",
    "Please fill out:\n",
    "* Student name: Arseniy Tyurin\n",
    "* Student pace: self paced\n",
    "* Scheduled project review date/time: September 9, 2019, 6:00pm (GMT-4)\n",
    "* Instructor name: Eli Thomas\n",
    "* Blog post URL: <a href=\"https://medium.com/@arseniytyurin/using-keras-for-predicting-patients-condition-14ba65fb27c5\" target=\"_blank\">Using Keras for Predicting Patients Condition</a>\n"
   ]
  },
  {
   "cell_type": "markdown",
   "metadata": {},
   "source": [
    "# Introduction"
   ]
  },
  {
   "cell_type": "markdown",
   "metadata": {},
   "source": [
    "Deep learning has wide variety of application and has gained reputation for image recognition and NLP. As computation power becomes more affordable, deep neural networks constantly evolving with help of big tech companies and R&D scientists.\n",
    "\n",
    "This project make use of deep learning for NLP to solve classification problem based on patients review of the drug they've used."
   ]
  },
  {
   "cell_type": "markdown",
   "metadata": {},
   "source": [
    "# Goal"
   ]
  },
  {
   "cell_type": "markdown",
   "metadata": {},
   "source": [
    "The goal for this project is to make predictions of the drugs patients used and to answer following **questions**:\n",
    "\n",
    "- Has older reviews been more useful to the readers?\n",
    "- How rating of the drug affects usefulness of the review?\n",
    "- Is it possible to distinguish drugs from the same category (ex. Birth Control)?"
   ]
  },
  {
   "cell_type": "markdown",
   "metadata": {},
   "source": [
    "# Dataset Description"
   ]
  },
  {
   "cell_type": "markdown",
   "metadata": {},
   "source": [
    "<a href=\"https://www.kaggle.com/jessicali9530/kuc-hackathon-winter-2018\" target=\"_blank\">The UCI ML Drug Review dataset</a> provides patient reviews on specific drugs along with related conditions and a 10-star patient rating system reflecting overall patient satisfaction. The data was obtained by crawling online pharmaceutical review sites.\n",
    "\n",
    "- **uniqueID** - Unique ID\n",
    "- **drugName** - Name of drug\n",
    "- **condition** - Name of condition\n",
    "- **review** - Patient review\n",
    "- **rating** - 10 star patient rating\n",
    "- **date** - Date of review entry\n",
    "- **usefulCount** - Number of users who found review useful"
   ]
  },
  {
   "cell_type": "markdown",
   "metadata": {},
   "source": [
    "# Data Science Process"
   ]
  },
  {
   "cell_type": "markdown",
   "metadata": {},
   "source": [
    "A successful completion of the analysis requires clear understanding of business problem.\n",
    "For this project I'm going to use <a href=\"https://towardsdatascience.com/5-steps-of-a-data-science-project-lifecycle-26c50372b492\" target=\"_blank\">OSEMN Framework</a> (Obtain - Scrab - Explore - Model - Interpret), which is one of the most common ways of doing analysis and building predictive models."
   ]
  },
  {
   "cell_type": "markdown",
   "metadata": {},
   "source": [
    "# Importing Libraries"
   ]
  },
  {
   "cell_type": "code",
   "execution_count": 2,
   "metadata": {},
   "outputs": [
    {
     "name": "stderr",
     "output_type": "stream",
     "text": [
      "Using TensorFlow backend.\n"
     ]
    }
   ],
   "source": [
    "import numpy as np\n",
    "import matplotlib.pyplot as plt\n",
    "import seaborn as sns\n",
    "import pandas as pd\n",
    "import re\n",
    "import string\n",
    "import random\n",
    "\n",
    "from nltk.corpus import stopwords\n",
    "from nltk.stem import WordNetLemmatizer\n",
    "#from nltk.collocations import *\n",
    "#from nltk import FreqDist, word_tokenize\n",
    "\n",
    "from sklearn.model_selection import train_test_split\n",
    "from keras.utils.np_utils import to_categorical\n",
    "from sklearn import preprocessing\n",
    "\n",
    "from keras import optimizers\n",
    "from keras.preprocessing import sequence\n",
    "from keras.preprocessing.text import Tokenizer\n",
    "from keras.preprocessing.sequence import pad_sequences\n",
    "from keras.layers import Input, Activation, LSTM, GRU, Dense, GlobalMaxPool1D, Embedding, Dropout, Conv1D\n",
    "from keras.models import Sequential, Model\n",
    "from sklearn.model_selection import GridSearchCV\n",
    "from keras.wrappers.scikit_learn import KerasClassifier"
   ]
  },
  {
   "cell_type": "code",
   "execution_count": 3,
   "metadata": {},
   "outputs": [],
   "source": [
    "from keras import backend\n",
    "import os\n",
    "os.environ['KMP_DUPLICATE_LIB_OK'] = 'True'\n",
    "import warnings\n",
    "warnings.filterwarnings('ignore')"
   ]
  },
  {
   "cell_type": "markdown",
   "metadata": {},
   "source": [
    "# 1. Obtain"
   ]
  },
  {
   "cell_type": "markdown",
   "metadata": {},
   "source": [
    "Data is stored in csv files and split into two parts: train and test. For the sake of flexibility and to preprocess data all at once I concatenated them into one dataframe"
   ]
  },
  {
   "cell_type": "code",
   "execution_count": 4,
   "metadata": {},
   "outputs": [],
   "source": [
    "drug_review_train = pd.read_csv('data/drugsComTrain_raw.csv')\n",
    "drug_review_test = pd.read_csv('data/drugsComTest_raw.csv')"
   ]
  },
  {
   "cell_type": "code",
   "execution_count": 127,
   "metadata": {},
   "outputs": [],
   "source": [
    "# combining train and test data to have more flexibility during testing phase and to ease scrubbing step.\n",
    "drugs = pd.concat([drug_review_test, drug_review_train])\n",
    "drugs.reset_index(inplace=True)"
   ]
  },
  {
   "cell_type": "markdown",
   "metadata": {},
   "source": [
    "# 2. Scrub"
   ]
  },
  {
   "cell_type": "markdown",
   "metadata": {},
   "source": [
    "## 2.1 Checking for missing values"
   ]
  },
  {
   "cell_type": "code",
   "execution_count": 6,
   "metadata": {},
   "outputs": [
    {
     "data": {
      "text/plain": [
       "index             0\n",
       "uniqueID          0\n",
       "drugName          0\n",
       "condition      1194\n",
       "review            0\n",
       "rating            0\n",
       "date              0\n",
       "usefulCount       0\n",
       "dtype: int64"
      ]
     },
     "execution_count": 6,
     "metadata": {},
     "output_type": "execute_result"
    }
   ],
   "source": [
    "drugs.isna().sum()"
   ]
  },
  {
   "cell_type": "code",
   "execution_count": 7,
   "metadata": {},
   "outputs": [],
   "source": [
    "# Though missing condition could be a good way to test NN, I would have no way to validate my predictions\n",
    "# So I decided to drop missing values\n",
    "drugs.dropna(inplace=True)"
   ]
  },
  {
   "cell_type": "markdown",
   "metadata": {},
   "source": [
    "## 2.2 Converting `date` to datetime type"
   ]
  },
  {
   "cell_type": "code",
   "execution_count": 8,
   "metadata": {},
   "outputs": [],
   "source": [
    "# For time-series analysis\n",
    "drugs.date = pd.to_datetime(drugs.date)"
   ]
  },
  {
   "cell_type": "code",
   "execution_count": 9,
   "metadata": {},
   "outputs": [],
   "source": [
    "drugs.date = pd.to_datetime(drugs.date)\n",
    "drugs['year'] = drugs.date.dt.year"
   ]
  },
  {
   "cell_type": "markdown",
   "metadata": {},
   "source": [
    "## 2.3 Cleaning and Lemmatization of `review` column"
   ]
  },
  {
   "cell_type": "markdown",
   "metadata": {},
   "source": [
    "Removing html tags, special characters, punctuation, stopwords and lowering the case. Final phase is lemmatization."
   ]
  },
  {
   "cell_type": "code",
   "execution_count": 10,
   "metadata": {},
   "outputs": [
    {
     "data": {
      "text/html": [
       "<div>\n",
       "<style scoped>\n",
       "    .dataframe tbody tr th:only-of-type {\n",
       "        vertical-align: middle;\n",
       "    }\n",
       "\n",
       "    .dataframe tbody tr th {\n",
       "        vertical-align: top;\n",
       "    }\n",
       "\n",
       "    .dataframe thead th {\n",
       "        text-align: right;\n",
       "    }\n",
       "</style>\n",
       "<table border=\"1\" class=\"dataframe\">\n",
       "  <thead>\n",
       "    <tr style=\"text-align: right;\">\n",
       "      <th></th>\n",
       "      <th>index</th>\n",
       "      <th>uniqueID</th>\n",
       "      <th>drugName</th>\n",
       "      <th>condition</th>\n",
       "      <th>review</th>\n",
       "      <th>rating</th>\n",
       "      <th>date</th>\n",
       "      <th>usefulCount</th>\n",
       "      <th>year</th>\n",
       "    </tr>\n",
       "  </thead>\n",
       "  <tbody>\n",
       "    <tr>\n",
       "      <th>0</th>\n",
       "      <td>0</td>\n",
       "      <td>163740</td>\n",
       "      <td>Mirtazapine</td>\n",
       "      <td>Depression</td>\n",
       "      <td>\"I&amp;#039;ve tried a few antidepressants over th...</td>\n",
       "      <td>10</td>\n",
       "      <td>2012-02-28</td>\n",
       "      <td>22</td>\n",
       "      <td>2012</td>\n",
       "    </tr>\n",
       "    <tr>\n",
       "      <th>1</th>\n",
       "      <td>1</td>\n",
       "      <td>206473</td>\n",
       "      <td>Mesalamine</td>\n",
       "      <td>Crohn's Disease, Maintenance</td>\n",
       "      <td>\"My son has Crohn&amp;#039;s disease and has done ...</td>\n",
       "      <td>8</td>\n",
       "      <td>2009-05-17</td>\n",
       "      <td>17</td>\n",
       "      <td>2009</td>\n",
       "    </tr>\n",
       "    <tr>\n",
       "      <th>2</th>\n",
       "      <td>2</td>\n",
       "      <td>159672</td>\n",
       "      <td>Bactrim</td>\n",
       "      <td>Urinary Tract Infection</td>\n",
       "      <td>\"Quick reduction of symptoms\"</td>\n",
       "      <td>9</td>\n",
       "      <td>2017-09-29</td>\n",
       "      <td>3</td>\n",
       "      <td>2017</td>\n",
       "    </tr>\n",
       "    <tr>\n",
       "      <th>3</th>\n",
       "      <td>3</td>\n",
       "      <td>39293</td>\n",
       "      <td>Contrave</td>\n",
       "      <td>Weight Loss</td>\n",
       "      <td>\"Contrave combines drugs that were used for al...</td>\n",
       "      <td>9</td>\n",
       "      <td>2017-03-05</td>\n",
       "      <td>35</td>\n",
       "      <td>2017</td>\n",
       "    </tr>\n",
       "    <tr>\n",
       "      <th>4</th>\n",
       "      <td>4</td>\n",
       "      <td>97768</td>\n",
       "      <td>Cyclafem 1 / 35</td>\n",
       "      <td>Birth Control</td>\n",
       "      <td>\"I have been on this birth control for one cyc...</td>\n",
       "      <td>9</td>\n",
       "      <td>2015-10-22</td>\n",
       "      <td>4</td>\n",
       "      <td>2015</td>\n",
       "    </tr>\n",
       "  </tbody>\n",
       "</table>\n",
       "</div>"
      ],
      "text/plain": [
       "   index  uniqueID         drugName                     condition  \\\n",
       "0      0    163740      Mirtazapine                    Depression   \n",
       "1      1    206473       Mesalamine  Crohn's Disease, Maintenance   \n",
       "2      2    159672          Bactrim       Urinary Tract Infection   \n",
       "3      3     39293         Contrave                   Weight Loss   \n",
       "4      4     97768  Cyclafem 1 / 35                 Birth Control   \n",
       "\n",
       "                                              review  rating       date  \\\n",
       "0  \"I&#039;ve tried a few antidepressants over th...      10 2012-02-28   \n",
       "1  \"My son has Crohn&#039;s disease and has done ...       8 2009-05-17   \n",
       "2                      \"Quick reduction of symptoms\"       9 2017-09-29   \n",
       "3  \"Contrave combines drugs that were used for al...       9 2017-03-05   \n",
       "4  \"I have been on this birth control for one cyc...       9 2015-10-22   \n",
       "\n",
       "   usefulCount  year  \n",
       "0           22  2012  \n",
       "1           17  2009  \n",
       "2            3  2017  \n",
       "3           35  2017  \n",
       "4            4  2015  "
      ]
     },
     "execution_count": 10,
     "metadata": {},
     "output_type": "execute_result"
    }
   ],
   "source": [
    "drugs.head()"
   ]
  },
  {
   "cell_type": "code",
   "execution_count": 11,
   "metadata": {},
   "outputs": [
    {
     "data": {
      "text/html": [
       "<div>\n",
       "<style scoped>\n",
       "    .dataframe tbody tr th:only-of-type {\n",
       "        vertical-align: middle;\n",
       "    }\n",
       "\n",
       "    .dataframe tbody tr th {\n",
       "        vertical-align: top;\n",
       "    }\n",
       "\n",
       "    .dataframe thead th {\n",
       "        text-align: right;\n",
       "    }\n",
       "</style>\n",
       "<table border=\"1\" class=\"dataframe\">\n",
       "  <thead>\n",
       "    <tr style=\"text-align: right;\">\n",
       "      <th></th>\n",
       "      <th>index</th>\n",
       "      <th>uniqueID</th>\n",
       "      <th>drugName</th>\n",
       "      <th>condition</th>\n",
       "      <th>review</th>\n",
       "      <th>rating</th>\n",
       "      <th>date</th>\n",
       "      <th>usefulCount</th>\n",
       "      <th>year</th>\n",
       "    </tr>\n",
       "  </thead>\n",
       "  <tbody>\n",
       "    <tr>\n",
       "      <th>0</th>\n",
       "      <td>0</td>\n",
       "      <td>163740</td>\n",
       "      <td>Mirtazapine</td>\n",
       "      <td>Depression</td>\n",
       "      <td>\"i&amp;#039;ve tried a few antidepressants over th...</td>\n",
       "      <td>10</td>\n",
       "      <td>2012-02-28</td>\n",
       "      <td>22</td>\n",
       "      <td>2012</td>\n",
       "    </tr>\n",
       "    <tr>\n",
       "      <th>1</th>\n",
       "      <td>1</td>\n",
       "      <td>206473</td>\n",
       "      <td>Mesalamine</td>\n",
       "      <td>Crohn's Disease, Maintenance</td>\n",
       "      <td>\"my son has crohn&amp;#039;s disease and has done ...</td>\n",
       "      <td>8</td>\n",
       "      <td>2009-05-17</td>\n",
       "      <td>17</td>\n",
       "      <td>2009</td>\n",
       "    </tr>\n",
       "    <tr>\n",
       "      <th>2</th>\n",
       "      <td>2</td>\n",
       "      <td>159672</td>\n",
       "      <td>Bactrim</td>\n",
       "      <td>Urinary Tract Infection</td>\n",
       "      <td>\"quick reduction of symptoms\"</td>\n",
       "      <td>9</td>\n",
       "      <td>2017-09-29</td>\n",
       "      <td>3</td>\n",
       "      <td>2017</td>\n",
       "    </tr>\n",
       "    <tr>\n",
       "      <th>3</th>\n",
       "      <td>3</td>\n",
       "      <td>39293</td>\n",
       "      <td>Contrave</td>\n",
       "      <td>Weight Loss</td>\n",
       "      <td>\"contrave combines drugs that were used for al...</td>\n",
       "      <td>9</td>\n",
       "      <td>2017-03-05</td>\n",
       "      <td>35</td>\n",
       "      <td>2017</td>\n",
       "    </tr>\n",
       "    <tr>\n",
       "      <th>4</th>\n",
       "      <td>4</td>\n",
       "      <td>97768</td>\n",
       "      <td>Cyclafem 1 / 35</td>\n",
       "      <td>Birth Control</td>\n",
       "      <td>\"i have been on this birth control for one cyc...</td>\n",
       "      <td>9</td>\n",
       "      <td>2015-10-22</td>\n",
       "      <td>4</td>\n",
       "      <td>2015</td>\n",
       "    </tr>\n",
       "  </tbody>\n",
       "</table>\n",
       "</div>"
      ],
      "text/plain": [
       "   index  uniqueID         drugName                     condition  \\\n",
       "0      0    163740      Mirtazapine                    Depression   \n",
       "1      1    206473       Mesalamine  Crohn's Disease, Maintenance   \n",
       "2      2    159672          Bactrim       Urinary Tract Infection   \n",
       "3      3     39293         Contrave                   Weight Loss   \n",
       "4      4     97768  Cyclafem 1 / 35                 Birth Control   \n",
       "\n",
       "                                              review  rating       date  \\\n",
       "0  \"i&#039;ve tried a few antidepressants over th...      10 2012-02-28   \n",
       "1  \"my son has crohn&#039;s disease and has done ...       8 2009-05-17   \n",
       "2                      \"quick reduction of symptoms\"       9 2017-09-29   \n",
       "3  \"contrave combines drugs that were used for al...       9 2017-03-05   \n",
       "4  \"i have been on this birth control for one cyc...       9 2015-10-22   \n",
       "\n",
       "   usefulCount  year  \n",
       "0           22  2012  \n",
       "1           17  2009  \n",
       "2            3  2017  \n",
       "3           35  2017  \n",
       "4            4  2015  "
      ]
     },
     "execution_count": 11,
     "metadata": {},
     "output_type": "execute_result"
    }
   ],
   "source": [
    "drugs.review = drugs.review.str.lower()\n",
    "drugs.head()"
   ]
  },
  {
   "cell_type": "markdown",
   "metadata": {},
   "source": [
    "### Removing punctuation and special characters"
   ]
  },
  {
   "cell_type": "code",
   "execution_count": 12,
   "metadata": {},
   "outputs": [],
   "source": [
    "drugs.review = drugs.review.str.replace('&#039;', \"'\")\n",
    "drugs.review = drugs.review.str.replace('&\\w+;',' ')\n",
    "drugs.review = drugs.review.str.replace(r\"[^a-z'A-Z]+\", \" \")"
   ]
  },
  {
   "cell_type": "markdown",
   "metadata": {},
   "source": [
    "### Removing stop words and lemmatizing text"
   ]
  },
  {
   "cell_type": "code",
   "execution_count": 13,
   "metadata": {},
   "outputs": [],
   "source": [
    "def text_to_tokens(text):\n",
    "    stopwords_list = stopwords.words('english') \n",
    "    stopwords_list += [i for i in [\"i'm\", \"i've\", \"mg\", \"ml\",\"'ve\",\"'s\", \"can't\", \"i'd\", \"that's\", \"ya'll\", \"get's\"]]\n",
    "    return [i for i in list(set(text.split())) if i not in stopwords_list]\n",
    "\n",
    "def lemm(text):\n",
    "    wordnet_lemmatizer = WordNetLemmatizer()\n",
    "    string = ''\n",
    "    for word in text:\n",
    "        string += wordnet_lemmatizer.lemmatize(word, pos=\"v\")+' '\n",
    "    return string.strip()"
   ]
  },
  {
   "cell_type": "code",
   "execution_count": 15,
   "metadata": {},
   "outputs": [],
   "source": [
    "tokens = drugs.review.map(text_to_tokens)"
   ]
  },
  {
   "cell_type": "code",
   "execution_count": 16,
   "metadata": {},
   "outputs": [],
   "source": [
    "drugs['lemm_review'] = tokens.map(lemm)"
   ]
  },
  {
   "cell_type": "code",
   "execution_count": 17,
   "metadata": {},
   "outputs": [],
   "source": [
    "drugs.lemm_review = drugs.lemm_review.str.replace(\"'\", \"\")"
   ]
  },
  {
   "cell_type": "markdown",
   "metadata": {},
   "source": [
    "## 2.4 Saving Clean Dataset"
   ]
  },
  {
   "cell_type": "code",
   "execution_count": 19,
   "metadata": {},
   "outputs": [],
   "source": [
    "drugs.to_csv('data/drug_review_clean.csv', index=False)"
   ]
  },
  {
   "cell_type": "markdown",
   "metadata": {},
   "source": [
    "# 3. Explore"
   ]
  },
  {
   "cell_type": "code",
   "execution_count": 20,
   "metadata": {},
   "outputs": [
    {
     "data": {
      "text/html": [
       "<div>\n",
       "<style scoped>\n",
       "    .dataframe tbody tr th:only-of-type {\n",
       "        vertical-align: middle;\n",
       "    }\n",
       "\n",
       "    .dataframe tbody tr th {\n",
       "        vertical-align: top;\n",
       "    }\n",
       "\n",
       "    .dataframe thead th {\n",
       "        text-align: right;\n",
       "    }\n",
       "</style>\n",
       "<table border=\"1\" class=\"dataframe\">\n",
       "  <thead>\n",
       "    <tr style=\"text-align: right;\">\n",
       "      <th></th>\n",
       "      <th>index</th>\n",
       "      <th>uniqueID</th>\n",
       "      <th>drugName</th>\n",
       "      <th>condition</th>\n",
       "      <th>review</th>\n",
       "      <th>rating</th>\n",
       "      <th>date</th>\n",
       "      <th>usefulCount</th>\n",
       "      <th>year</th>\n",
       "      <th>lemm_review</th>\n",
       "    </tr>\n",
       "  </thead>\n",
       "  <tbody>\n",
       "    <tr>\n",
       "      <th>0</th>\n",
       "      <td>0</td>\n",
       "      <td>163740</td>\n",
       "      <td>Mirtazapine</td>\n",
       "      <td>Depression</td>\n",
       "      <td>i've tried a few antidepressants over the yea...</td>\n",
       "      <td>10</td>\n",
       "      <td>2012-02-28</td>\n",
       "      <td>22</td>\n",
       "      <td>2012</td>\n",
       "      <td>insomnia life years gain side fluoxetine effec...</td>\n",
       "    </tr>\n",
       "    <tr>\n",
       "      <th>1</th>\n",
       "      <td>1</td>\n",
       "      <td>206473</td>\n",
       "      <td>Mesalamine</td>\n",
       "      <td>Crohn's Disease, Maintenance</td>\n",
       "      <td>my son has crohn's disease and has done very ...</td>\n",
       "      <td>8</td>\n",
       "      <td>2009-05-17</td>\n",
       "      <td>17</td>\n",
       "      <td>2009</td>\n",
       "      <td>complaints take side do effect happy bouts son...</td>\n",
       "    </tr>\n",
       "    <tr>\n",
       "      <th>2</th>\n",
       "      <td>2</td>\n",
       "      <td>159672</td>\n",
       "      <td>Bactrim</td>\n",
       "      <td>Urinary Tract Infection</td>\n",
       "      <td>quick reduction of symptoms</td>\n",
       "      <td>9</td>\n",
       "      <td>2017-09-29</td>\n",
       "      <td>3</td>\n",
       "      <td>2017</td>\n",
       "      <td>reduction symptoms quick</td>\n",
       "    </tr>\n",
       "    <tr>\n",
       "      <th>3</th>\n",
       "      <td>3</td>\n",
       "      <td>39293</td>\n",
       "      <td>Contrave</td>\n",
       "      <td>Weight Loss</td>\n",
       "      <td>contrave combines drugs that were used for al...</td>\n",
       "      <td>9</td>\n",
       "      <td>2017-03-05</td>\n",
       "      <td>35</td>\n",
       "      <td>2017</td>\n",
       "      <td>combine go healthier months hungry stomach obe...</td>\n",
       "    </tr>\n",
       "    <tr>\n",
       "      <th>4</th>\n",
       "      <td>4</td>\n",
       "      <td>97768</td>\n",
       "      <td>Cyclafem 1 / 35</td>\n",
       "      <td>Birth Control</td>\n",
       "      <td>i have been on this birth control for one cyc...</td>\n",
       "      <td>9</td>\n",
       "      <td>2015-10-22</td>\n",
       "      <td>4</td>\n",
       "      <td>2015</td>\n",
       "      <td>ive first long recommend inactive effect pills...</td>\n",
       "    </tr>\n",
       "  </tbody>\n",
       "</table>\n",
       "</div>"
      ],
      "text/plain": [
       "   index  uniqueID         drugName                     condition  \\\n",
       "0      0    163740      Mirtazapine                    Depression   \n",
       "1      1    206473       Mesalamine  Crohn's Disease, Maintenance   \n",
       "2      2    159672          Bactrim       Urinary Tract Infection   \n",
       "3      3     39293         Contrave                   Weight Loss   \n",
       "4      4     97768  Cyclafem 1 / 35                 Birth Control   \n",
       "\n",
       "                                              review  rating       date  \\\n",
       "0   i've tried a few antidepressants over the yea...      10 2012-02-28   \n",
       "1   my son has crohn's disease and has done very ...       8 2009-05-17   \n",
       "2                       quick reduction of symptoms        9 2017-09-29   \n",
       "3   contrave combines drugs that were used for al...       9 2017-03-05   \n",
       "4   i have been on this birth control for one cyc...       9 2015-10-22   \n",
       "\n",
       "   usefulCount  year                                        lemm_review  \n",
       "0           22  2012  insomnia life years gain side fluoxetine effec...  \n",
       "1           17  2009  complaints take side do effect happy bouts son...  \n",
       "2            3  2017                           reduction symptoms quick  \n",
       "3           35  2017  combine go healthier months hungry stomach obe...  \n",
       "4            4  2015  ive first long recommend inactive effect pills...  "
      ]
     },
     "execution_count": 20,
     "metadata": {},
     "output_type": "execute_result"
    }
   ],
   "source": [
    "drugs.head()"
   ]
  },
  {
   "cell_type": "code",
   "execution_count": 21,
   "metadata": {},
   "outputs": [
    {
     "data": {
      "text/html": [
       "<div>\n",
       "<style scoped>\n",
       "    .dataframe tbody tr th:only-of-type {\n",
       "        vertical-align: middle;\n",
       "    }\n",
       "\n",
       "    .dataframe tbody tr th {\n",
       "        vertical-align: top;\n",
       "    }\n",
       "\n",
       "    .dataframe thead th {\n",
       "        text-align: right;\n",
       "    }\n",
       "</style>\n",
       "<table border=\"1\" class=\"dataframe\">\n",
       "  <thead>\n",
       "    <tr style=\"text-align: right;\">\n",
       "      <th></th>\n",
       "      <th>index</th>\n",
       "      <th>uniqueID</th>\n",
       "      <th>rating</th>\n",
       "      <th>usefulCount</th>\n",
       "      <th>year</th>\n",
       "    </tr>\n",
       "  </thead>\n",
       "  <tbody>\n",
       "    <tr>\n",
       "      <th>count</th>\n",
       "      <td>213869.000000</td>\n",
       "      <td>213869.000000</td>\n",
       "      <td>213869.000000</td>\n",
       "      <td>213869.000000</td>\n",
       "      <td>213869.000000</td>\n",
       "    </tr>\n",
       "    <tr>\n",
       "      <th>mean</th>\n",
       "      <td>67216.843025</td>\n",
       "      <td>116076.924786</td>\n",
       "      <td>6.991149</td>\n",
       "      <td>28.094118</td>\n",
       "      <td>2013.956511</td>\n",
       "    </tr>\n",
       "    <tr>\n",
       "      <th>std</th>\n",
       "      <td>47210.086618</td>\n",
       "      <td>67016.705794</td>\n",
       "      <td>3.275792</td>\n",
       "      <td>36.401377</td>\n",
       "      <td>2.708257</td>\n",
       "    </tr>\n",
       "    <tr>\n",
       "      <th>min</th>\n",
       "      <td>0.000000</td>\n",
       "      <td>0.000000</td>\n",
       "      <td>1.000000</td>\n",
       "      <td>0.000000</td>\n",
       "      <td>2008.000000</td>\n",
       "    </tr>\n",
       "    <tr>\n",
       "      <th>25%</th>\n",
       "      <td>26884.000000</td>\n",
       "      <td>58122.000000</td>\n",
       "      <td>5.000000</td>\n",
       "      <td>6.000000</td>\n",
       "      <td>2012.000000</td>\n",
       "    </tr>\n",
       "    <tr>\n",
       "      <th>50%</th>\n",
       "      <td>53789.000000</td>\n",
       "      <td>115972.000000</td>\n",
       "      <td>8.000000</td>\n",
       "      <td>16.000000</td>\n",
       "      <td>2015.000000</td>\n",
       "    </tr>\n",
       "    <tr>\n",
       "      <th>75%</th>\n",
       "      <td>107542.000000</td>\n",
       "      <td>174018.000000</td>\n",
       "      <td>10.000000</td>\n",
       "      <td>36.000000</td>\n",
       "      <td>2016.000000</td>\n",
       "    </tr>\n",
       "    <tr>\n",
       "      <th>max</th>\n",
       "      <td>161296.000000</td>\n",
       "      <td>232291.000000</td>\n",
       "      <td>10.000000</td>\n",
       "      <td>1291.000000</td>\n",
       "      <td>2017.000000</td>\n",
       "    </tr>\n",
       "  </tbody>\n",
       "</table>\n",
       "</div>"
      ],
      "text/plain": [
       "               index       uniqueID         rating    usefulCount  \\\n",
       "count  213869.000000  213869.000000  213869.000000  213869.000000   \n",
       "mean    67216.843025  116076.924786       6.991149      28.094118   \n",
       "std     47210.086618   67016.705794       3.275792      36.401377   \n",
       "min         0.000000       0.000000       1.000000       0.000000   \n",
       "25%     26884.000000   58122.000000       5.000000       6.000000   \n",
       "50%     53789.000000  115972.000000       8.000000      16.000000   \n",
       "75%    107542.000000  174018.000000      10.000000      36.000000   \n",
       "max    161296.000000  232291.000000      10.000000    1291.000000   \n",
       "\n",
       "                year  \n",
       "count  213869.000000  \n",
       "mean     2013.956511  \n",
       "std         2.708257  \n",
       "min      2008.000000  \n",
       "25%      2012.000000  \n",
       "50%      2015.000000  \n",
       "75%      2016.000000  \n",
       "max      2017.000000  "
      ]
     },
     "execution_count": 21,
     "metadata": {},
     "output_type": "execute_result"
    }
   ],
   "source": [
    "drugs.describe()"
   ]
  },
  {
   "cell_type": "markdown",
   "metadata": {},
   "source": [
    "### Is year of the review correlate with useful count?"
   ]
  },
  {
   "cell_type": "markdown",
   "metadata": {},
   "source": [
    "I have a hypothesis that older reviews would have greater useful count, simply because they have been explosed for users longer. To check if my hypothesis is true I will perform hypothesis test called ANOVA (Analysis of variance). This test is useful for comparing distributions between two or more groups. In my case I will compare 10 groups (years from 2012 till 2013)."
   ]
  },
  {
   "cell_type": "code",
   "execution_count": 23,
   "metadata": {},
   "outputs": [
    {
     "data": {
      "image/png": "[encoded data removed]",
      "text/plain": [
       "<Figure size 432x288 with 2 Axes>"
      ]
     },
     "metadata": {
      "needs_background": "light"
     },
     "output_type": "display_data"
    }
   ],
   "source": [
    "# Returns new dataframe with average useful count for each year\n",
    "usefulness_df = drugs.groupby(drugs.date.dt.year).usefulCount.mean().to_frame().reset_index()\n",
    "\n",
    "sns.heatmap(usefulness_df.corr(), annot=True)\n",
    "plt.title('Year-Usefulness Correlation', fontSize=14)\n",
    "plt.show()"
   ]
  },
  {
   "cell_type": "markdown",
   "metadata": {},
   "source": [
    "**Conclusion**: Negative correlation between years and useful counts is not strong, but it's not totally random"
   ]
  },
  {
   "cell_type": "markdown",
   "metadata": {},
   "source": [
    "### ANOVA test for `usefulCount` per year"
   ]
  },
  {
   "cell_type": "code",
   "execution_count": 25,
   "metadata": {},
   "outputs": [
    {
     "name": "stdout",
     "output_type": "stream",
     "text": [
      "                sum_sq        df            F  PR(>F)\n",
      "C(year)   4.104696e+07       9.0  4024.750995     0.0\n",
      "Residual  2.423410e+08  213859.0          NaN     NaN\n"
     ]
    }
   ],
   "source": [
    "import statsmodels.api as sm\n",
    "from statsmodels.formula.api import ols\n",
    "\n",
    "formula = 'usefulCount ~ C(year)'\n",
    "lm = ols(formula, drugs).fit()\n",
    "table = sm.stats.anova_lm(lm, typ=2)\n",
    "print(table)"
   ]
  },
  {
   "cell_type": "markdown",
   "metadata": {},
   "source": [
    "**Conclusion**: Test shows that there is a statistically significant difference in distribution of usefulness each year, hence I reject null hypothesis"
   ]
  },
  {
   "cell_type": "markdown",
   "metadata": {},
   "source": [
    "### Rating Over the Years"
   ]
  },
  {
   "cell_type": "code",
   "execution_count": 26,
   "metadata": {
    "scrolled": false
   },
   "outputs": [
    {
     "data": {
      "image/png": "[encoded data removed]",
      "text/plain": [
       "<Figure size 864x360 with 1 Axes>"
      ]
     },
     "metadata": {
      "needs_background": "light"
     },
     "output_type": "display_data"
    }
   ],
   "source": [
    "plt.figure(figsize=(12,5))\n",
    "plt.style.use('seaborn-whitegrid')\n",
    "sns.barplot(x='year', y='rating', data=drugs)\n",
    "plt.title('Rating Over The Years', fontSize=14)\n",
    "plt.show()"
   ]
  },
  {
   "cell_type": "markdown",
   "metadata": {},
   "source": [
    "### Usefulness Over the Years"
   ]
  },
  {
   "cell_type": "code",
   "execution_count": 27,
   "metadata": {
    "scrolled": true
   },
   "outputs": [
    {
     "data": {
      "image/png": "[encoded data removed]",
      "text/plain": [
       "<Figure size 864x360 with 1 Axes>"
      ]
     },
     "metadata": {},
     "output_type": "display_data"
    }
   ],
   "source": [
    "plt.figure(figsize=(12,5))\n",
    "sns.barplot(x='year', y='usefulCount', data=drugs)\n",
    "plt.title('Usefulness Over the Years', fontSize=14)\n",
    "plt.show()"
   ]
  },
  {
   "cell_type": "markdown",
   "metadata": {},
   "source": [
    "### Top 10 Drugs Usefulness Over the Years"
   ]
  },
  {
   "cell_type": "code",
   "execution_count": 28,
   "metadata": {
    "scrolled": false
   },
   "outputs": [
    {
     "data": {
      "image/png": "[encoded data removed]",
      "text/plain": [
       "<Figure size 1152x576 with 1 Axes>"
      ]
     },
     "metadata": {},
     "output_type": "display_data"
    }
   ],
   "source": [
    "plt.figure(figsize=(16,8))\n",
    "\n",
    "top_10_drugs = list(drugs.drugName.value_counts()[:10].keys())\n",
    "for i in top_10_drugs:\n",
    "    plt.plot(drugs[drugs.drugName==i].groupby('year').mean()[['usefulCount']], label=i)\n",
    "    plt.legend()"
   ]
  },
  {
   "cell_type": "code",
   "execution_count": 29,
   "metadata": {
    "scrolled": true
   },
   "outputs": [
    {
     "data": {
      "image/png": "[encoded data removed]",
      "text/plain": [
       "<Figure size 432x288 with 2 Axes>"
      ]
     },
     "metadata": {},
     "output_type": "display_data"
    }
   ],
   "source": [
    "sns.heatmap(drugs.groupby('year')[['rating','usefulCount']].mean().corr(), annot=True)\n",
    "plt.title('Rating-Usefulness Correlation', fontSize=14)\n",
    "plt.show()"
   ]
  },
  {
   "cell_type": "markdown",
   "metadata": {},
   "source": [
    "**Conclusion**: Reviews with higher rating appear to be more useful for users"
   ]
  },
  {
   "cell_type": "markdown",
   "metadata": {},
   "source": [
    "### Distribution of Rating Across All Reviews"
   ]
  },
  {
   "cell_type": "code",
   "execution_count": 30,
   "metadata": {
    "scrolled": false
   },
   "outputs": [
    {
     "data": {
      "image/png": "[encoded data removed]",
      "text/plain": [
       "<Figure size 648x648 with 1 Axes>"
      ]
     },
     "metadata": {},
     "output_type": "display_data"
    }
   ],
   "source": [
    "plt.figure(figsize=(9,9))\n",
    "\n",
    "rating_count = drugs.groupby('rating')['review'].count()\n",
    "sizes = rating_count.values\n",
    "labels = rating_count.keys()\n",
    "\n",
    "wedges, texts, autotexts = plt.pie(sizes, labels=labels, autopct='%1.1f%%', pctdistance=0.8, labeldistance=1.1)\n",
    "plt.setp(autotexts, size=12, color='w')\n",
    "plt.setp(texts, size=13,)\n",
    "plt.title('Ratings Proportion', fontSize=16)\n",
    "plt.show()"
   ]
  },
  {
   "cell_type": "markdown",
   "metadata": {},
   "source": [
    "**Conclusion**: patients tend to write a review when they have very good or very bad experience with medication. Approximately 60% of reviews have positive sentiment"
   ]
  },
  {
   "cell_type": "markdown",
   "metadata": {},
   "source": [
    "### Top Rated Drugs For a Condition"
   ]
  },
  {
   "cell_type": "code",
   "execution_count": 31,
   "metadata": {},
   "outputs": [],
   "source": [
    "def top_rated_drug_for_condition(condition='Depression', return_n=10):\n",
    "    rating, count = [], []\n",
    "    top_drugs = drugs[drugs.condition == condition].drugName.value_counts().head(return_n).keys()\n",
    "    for i in top_drugs:\n",
    "        rating.append(round(drugs[drugs.drugName==i].rating.mean(), 2))\n",
    "        count.append(sum(drugs.drugName==i))\n",
    "    return pd.DataFrame(np.array([top_drugs, rating, count]).T, columns=['Name','Rating','Count']).sort_values('Rating', ascending=False)"
   ]
  },
  {
   "cell_type": "code",
   "execution_count": 32,
   "metadata": {
    "scrolled": true
   },
   "outputs": [
    {
     "data": {
      "text/html": [
       "<div>\n",
       "<style scoped>\n",
       "    .dataframe tbody tr th:only-of-type {\n",
       "        vertical-align: middle;\n",
       "    }\n",
       "\n",
       "    .dataframe tbody tr th {\n",
       "        vertical-align: top;\n",
       "    }\n",
       "\n",
       "    .dataframe thead th {\n",
       "        text-align: right;\n",
       "    }\n",
       "</style>\n",
       "<table border=\"1\" class=\"dataframe\">\n",
       "  <thead>\n",
       "    <tr style=\"text-align: right;\">\n",
       "      <th></th>\n",
       "      <th>Name</th>\n",
       "      <th>Rating</th>\n",
       "      <th>Count</th>\n",
       "    </tr>\n",
       "  </thead>\n",
       "  <tbody>\n",
       "    <tr>\n",
       "      <th>2</th>\n",
       "      <td>Levonorgestrel</td>\n",
       "      <td>7.39</td>\n",
       "      <td>4896</td>\n",
       "    </tr>\n",
       "    <tr>\n",
       "      <th>8</th>\n",
       "      <td>Skyla</td>\n",
       "      <td>7.24</td>\n",
       "      <td>1076</td>\n",
       "    </tr>\n",
       "    <tr>\n",
       "      <th>7</th>\n",
       "      <td>Mirena</td>\n",
       "      <td>6.62</td>\n",
       "      <td>1673</td>\n",
       "    </tr>\n",
       "    <tr>\n",
       "      <th>6</th>\n",
       "      <td>Implanon</td>\n",
       "      <td>6.18</td>\n",
       "      <td>1506</td>\n",
       "    </tr>\n",
       "    <tr>\n",
       "      <th>9</th>\n",
       "      <td>Lo Loestrin Fe</td>\n",
       "      <td>6.07</td>\n",
       "      <td>914</td>\n",
       "    </tr>\n",
       "    <tr>\n",
       "      <th>0</th>\n",
       "      <td>Etonogestrel</td>\n",
       "      <td>5.83</td>\n",
       "      <td>4402</td>\n",
       "    </tr>\n",
       "    <tr>\n",
       "      <th>5</th>\n",
       "      <td>Ethinyl estradiol / norgestimate</td>\n",
       "      <td>5.79</td>\n",
       "      <td>2682</td>\n",
       "    </tr>\n",
       "    <tr>\n",
       "      <th>4</th>\n",
       "      <td>Ethinyl estradiol / levonorgestrel</td>\n",
       "      <td>5.76</td>\n",
       "      <td>2400</td>\n",
       "    </tr>\n",
       "    <tr>\n",
       "      <th>3</th>\n",
       "      <td>Nexplanon</td>\n",
       "      <td>5.64</td>\n",
       "      <td>2892</td>\n",
       "    </tr>\n",
       "    <tr>\n",
       "      <th>1</th>\n",
       "      <td>Ethinyl estradiol / norethindrone</td>\n",
       "      <td>5.58</td>\n",
       "      <td>3619</td>\n",
       "    </tr>\n",
       "  </tbody>\n",
       "</table>\n",
       "</div>"
      ],
      "text/plain": [
       "                                 Name Rating Count\n",
       "2                      Levonorgestrel   7.39  4896\n",
       "8                               Skyla   7.24  1076\n",
       "7                              Mirena   6.62  1673\n",
       "6                            Implanon   6.18  1506\n",
       "9                      Lo Loestrin Fe   6.07   914\n",
       "0                        Etonogestrel   5.83  4402\n",
       "5    Ethinyl estradiol / norgestimate   5.79  2682\n",
       "4  Ethinyl estradiol / levonorgestrel   5.76  2400\n",
       "3                           Nexplanon   5.64  2892\n",
       "1   Ethinyl estradiol / norethindrone   5.58  3619"
      ]
     },
     "execution_count": 32,
     "metadata": {},
     "output_type": "execute_result"
    }
   ],
   "source": [
    "top_rated_drug_for_condition('Birth Control')"
   ]
  },
  {
   "cell_type": "code",
   "execution_count": 33,
   "metadata": {
    "scrolled": true
   },
   "outputs": [
    {
     "data": {
      "text/html": [
       "<div>\n",
       "<style scoped>\n",
       "    .dataframe tbody tr th:only-of-type {\n",
       "        vertical-align: middle;\n",
       "    }\n",
       "\n",
       "    .dataframe tbody tr th {\n",
       "        vertical-align: top;\n",
       "    }\n",
       "\n",
       "    .dataframe thead th {\n",
       "        text-align: right;\n",
       "    }\n",
       "</style>\n",
       "<table border=\"1\" class=\"dataframe\">\n",
       "  <thead>\n",
       "    <tr style=\"text-align: right;\">\n",
       "      <th></th>\n",
       "      <th>Name</th>\n",
       "      <th>Rating</th>\n",
       "      <th>Count</th>\n",
       "    </tr>\n",
       "  </thead>\n",
       "  <tbody>\n",
       "    <tr>\n",
       "      <th>5</th>\n",
       "      <td>Escitalopram</td>\n",
       "      <td>7.83</td>\n",
       "      <td>1739</td>\n",
       "    </tr>\n",
       "    <tr>\n",
       "      <th>6</th>\n",
       "      <td>Citalopram</td>\n",
       "      <td>7.6</td>\n",
       "      <td>1306</td>\n",
       "    </tr>\n",
       "    <tr>\n",
       "      <th>0</th>\n",
       "      <td>Bupropion</td>\n",
       "      <td>7.48</td>\n",
       "      <td>1360</td>\n",
       "    </tr>\n",
       "    <tr>\n",
       "      <th>1</th>\n",
       "      <td>Sertraline</td>\n",
       "      <td>7.45</td>\n",
       "      <td>1859</td>\n",
       "    </tr>\n",
       "    <tr>\n",
       "      <th>4</th>\n",
       "      <td>Pristiq</td>\n",
       "      <td>7.23</td>\n",
       "      <td>730</td>\n",
       "    </tr>\n",
       "    <tr>\n",
       "      <th>3</th>\n",
       "      <td>Desvenlafaxine</td>\n",
       "      <td>7.21</td>\n",
       "      <td>793</td>\n",
       "    </tr>\n",
       "    <tr>\n",
       "      <th>2</th>\n",
       "      <td>Venlafaxine</td>\n",
       "      <td>6.83</td>\n",
       "      <td>1332</td>\n",
       "    </tr>\n",
       "    <tr>\n",
       "      <th>9</th>\n",
       "      <td>Cymbalta</td>\n",
       "      <td>6.63</td>\n",
       "      <td>1142</td>\n",
       "    </tr>\n",
       "    <tr>\n",
       "      <th>8</th>\n",
       "      <td>Duloxetine</td>\n",
       "      <td>6.62</td>\n",
       "      <td>1251</td>\n",
       "    </tr>\n",
       "    <tr>\n",
       "      <th>7</th>\n",
       "      <td>Vortioxetine</td>\n",
       "      <td>6.13</td>\n",
       "      <td>681</td>\n",
       "    </tr>\n",
       "  </tbody>\n",
       "</table>\n",
       "</div>"
      ],
      "text/plain": [
       "             Name Rating Count\n",
       "5    Escitalopram   7.83  1739\n",
       "6      Citalopram    7.6  1306\n",
       "0       Bupropion   7.48  1360\n",
       "1      Sertraline   7.45  1859\n",
       "4         Pristiq   7.23   730\n",
       "3  Desvenlafaxine   7.21   793\n",
       "2     Venlafaxine   6.83  1332\n",
       "9        Cymbalta   6.63  1142\n",
       "8      Duloxetine   6.62  1251\n",
       "7    Vortioxetine   6.13   681"
      ]
     },
     "execution_count": 33,
     "metadata": {},
     "output_type": "execute_result"
    }
   ],
   "source": [
    "top_rated_drug_for_condition('Depression')"
   ]
  },
  {
   "cell_type": "markdown",
   "metadata": {},
   "source": [
    "# 4. Model"
   ]
  },
  {
   "cell_type": "markdown",
   "metadata": {},
   "source": [
    "Deep Neural networks for classification problems based on text require some preprocessing for input layer. Each word must be transformed into token. Depends on the network, tokens would be represented as **matrix** of tokens (similar to hot encoding for categorical variables) or as **sequences**, where we preserve sentence structure."
   ]
  },
  {
   "cell_type": "code",
   "execution_count": 5,
   "metadata": {},
   "outputs": [],
   "source": [
    "def hot_pad_sequences(text, num_words=3000, maxlen=100):    \n",
    "    tokenizer = Tokenizer(num_words)\n",
    "    tokenizer.fit_on_texts(list(text))\n",
    "    list_tokenized_headlines = tokenizer.texts_to_sequences(text)\n",
    "    return sequence.pad_sequences(list_tokenized_headlines, maxlen)"
   ]
  },
  {
   "cell_type": "code",
   "execution_count": 6,
   "metadata": {},
   "outputs": [],
   "source": [
    "def hot_tokenization(text, num_words=2000):\n",
    "    tokenizer = Tokenizer(num_words)\n",
    "    tokenizer.fit_on_texts(text)\n",
    "    return tokenizer.texts_to_matrix(text, mode='binary')"
   ]
  },
  {
   "cell_type": "code",
   "execution_count": 7,
   "metadata": {},
   "outputs": [],
   "source": [
    "def hot_label_encoding(labels):\n",
    "    le = preprocessing.LabelEncoder()\n",
    "    le.fit(labels)\n",
    "    labels_cat = le.transform(labels)\n",
    "    return to_categorical(labels_cat) "
   ]
  },
  {
   "cell_type": "markdown",
   "metadata": {},
   "source": [
    "## 4.1 Predicting Condition Based on Review"
   ]
  },
  {
   "cell_type": "markdown",
   "metadata": {},
   "source": [
    "### Selecting 10 most popular conditions"
   ]
  },
  {
   "cell_type": "code",
   "execution_count": 9,
   "metadata": {},
   "outputs": [],
   "source": [
    "top_10_conditions = drugs.set_index('condition').loc[drugs.condition.value_counts()[:10].keys()]"
   ]
  },
  {
   "cell_type": "markdown",
   "metadata": {},
   "source": [
    "### Hot Tokenization"
   ]
  },
  {
   "cell_type": "code",
   "execution_count": 40,
   "metadata": {},
   "outputs": [],
   "source": [
    "X_t = hot_tokenization(top_10_conditions.lemm_review, 3000)\n",
    "y = hot_label_encoding(top_10_conditions.index)\n",
    "train, test, label_train, label_test = train_test_split(X_t, y, test_size=0.2, random_state=42)"
   ]
  },
  {
   "cell_type": "markdown",
   "metadata": {},
   "source": [
    "### Building Dense Network"
   ]
  },
  {
   "cell_type": "code",
   "execution_count": 42,
   "metadata": {
    "scrolled": true
   },
   "outputs": [
    {
     "name": "stdout",
     "output_type": "stream",
     "text": [
      "WARNING:tensorflow:From /Users/seanbird/anaconda3/lib/python3.7/site-packages/tensorflow/python/framework/op_def_library.py:263: colocate_with (from tensorflow.python.framework.ops) is deprecated and will be removed in a future version.\n",
      "Instructions for updating:\n",
      "Colocations handled automatically by placer.\n",
      "WARNING:tensorflow:From /Users/seanbird/anaconda3/lib/python3.7/site-packages/tensorflow/python/ops/math_ops.py:3066: to_int32 (from tensorflow.python.ops.math_ops) is deprecated and will be removed in a future version.\n",
      "Instructions for updating:\n",
      "Use tf.cast instead.\n",
      "Train on 71080 samples, validate on 7898 samples\n",
      "Epoch 1/30\n",
      "71080/71080 [==============================] - 16s 222us/step - loss: 1.9556 - acc: 0.3650 - val_loss: 1.6991 - val_acc: 0.4009\n",
      "Epoch 2/30\n",
      "71080/71080 [==============================] - 9s 128us/step - loss: 1.5882 - acc: 0.4229 - val_loss: 1.4452 - val_acc: 0.4867\n",
      "Epoch 3/30\n",
      "71080/71080 [==============================] - 9s 125us/step - loss: 1.3801 - acc: 0.5173 - val_loss: 1.2693 - val_acc: 0.5785\n",
      "Epoch 4/30\n",
      "71080/71080 [==============================] - 9s 129us/step - loss: 1.2085 - acc: 0.6184 - val_loss: 1.1073 - val_acc: 0.6671\n",
      "Epoch 5/30\n",
      "71080/71080 [==============================] - 9s 126us/step - loss: 1.0454 - acc: 0.6980 - val_loss: 0.9561 - val_acc: 0.7250\n",
      "Epoch 6/30\n",
      "71080/71080 [==============================] - 9s 133us/step - loss: 0.9022 - acc: 0.7442 - val_loss: 0.8338 - val_acc: 0.7520\n",
      "Epoch 7/30\n",
      "71080/71080 [==============================] - 11s 155us/step - loss: 0.7924 - acc: 0.7701 - val_loss: 0.7446 - val_acc: 0.7702\n",
      "Epoch 8/30\n",
      "71080/71080 [==============================] - 11s 154us/step - loss: 0.7141 - acc: 0.7849 - val_loss: 0.6825 - val_acc: 0.7831\n",
      "Epoch 9/30\n",
      "71080/71080 [==============================] - 10s 141us/step - loss: 0.6581 - acc: 0.7953 - val_loss: 0.6377 - val_acc: 0.7926\n",
      "Epoch 10/30\n",
      "71080/71080 [==============================] - 11s 155us/step - loss: 0.6166 - acc: 0.8045 - val_loss: 0.6042 - val_acc: 0.7997\n",
      "Epoch 11/30\n",
      "71080/71080 [==============================] - 12s 166us/step - loss: 0.5847 - acc: 0.8105 - val_loss: 0.5779 - val_acc: 0.8050\n",
      "Epoch 12/30\n",
      "71080/71080 [==============================] - 12s 174us/step - loss: 0.5593 - acc: 0.8170 - val_loss: 0.5572 - val_acc: 0.8115\n",
      "Epoch 13/30\n",
      "71080/71080 [==============================] - 14s 191us/step - loss: 0.5386 - acc: 0.8209 - val_loss: 0.5400 - val_acc: 0.8158\n",
      "Epoch 14/30\n",
      "71080/71080 [==============================] - 16s 220us/step - loss: 0.5212 - acc: 0.8256 - val_loss: 0.5260 - val_acc: 0.8177\n",
      "Epoch 15/30\n",
      "71080/71080 [==============================] - 13s 182us/step - loss: 0.5065 - acc: 0.8291 - val_loss: 0.5137 - val_acc: 0.8219\n",
      "Epoch 16/30\n",
      "71080/71080 [==============================] - 13s 185us/step - loss: 0.4937 - acc: 0.8332 - val_loss: 0.5034 - val_acc: 0.8231\n",
      "Epoch 17/30\n",
      "71080/71080 [==============================] - 14s 193us/step - loss: 0.4826 - acc: 0.8358 - val_loss: 0.4942 - val_acc: 0.8268\n",
      "Epoch 18/30\n",
      "71080/71080 [==============================] - 13s 188us/step - loss: 0.4725 - acc: 0.8382 - val_loss: 0.4865 - val_acc: 0.8289\n",
      "Epoch 19/30\n",
      "71080/71080 [==============================] - 13s 186us/step - loss: 0.4636 - acc: 0.8407 - val_loss: 0.4792 - val_acc: 0.8305\n",
      "Epoch 20/30\n",
      "71080/71080 [==============================] - 13s 184us/step - loss: 0.4554 - acc: 0.8427 - val_loss: 0.4725 - val_acc: 0.8329\n",
      "Epoch 21/30\n",
      "71080/71080 [==============================] - 12s 175us/step - loss: 0.4480 - acc: 0.8448 - val_loss: 0.4670 - val_acc: 0.8357\n",
      "Epoch 22/30\n",
      "71080/71080 [==============================] - 12s 175us/step - loss: 0.4412 - acc: 0.8473 - val_loss: 0.4615 - val_acc: 0.8363\n",
      "Epoch 23/30\n",
      "71080/71080 [==============================] - 13s 188us/step - loss: 0.4349 - acc: 0.8492 - val_loss: 0.4573 - val_acc: 0.8379\n",
      "Epoch 24/30\n",
      "71080/71080 [==============================] - 13s 178us/step - loss: 0.4289 - acc: 0.8509 - val_loss: 0.4528 - val_acc: 0.8402\n",
      "Epoch 25/30\n",
      "71080/71080 [==============================] - 13s 176us/step - loss: 0.4234 - acc: 0.8530 - val_loss: 0.4481 - val_acc: 0.8415\n",
      "Epoch 26/30\n",
      "71080/71080 [==============================] - 14s 193us/step - loss: 0.4182 - acc: 0.8552 - val_loss: 0.4442 - val_acc: 0.8424\n",
      "Epoch 27/30\n",
      "71080/71080 [==============================] - 14s 191us/step - loss: 0.4132 - acc: 0.8571 - val_loss: 0.4409 - val_acc: 0.8434\n",
      "Epoch 28/30\n",
      "71080/71080 [==============================] - 14s 191us/step - loss: 0.4085 - acc: 0.8580 - val_loss: 0.4374 - val_acc: 0.8444\n",
      "Epoch 29/30\n",
      "71080/71080 [==============================] - 14s 198us/step - loss: 0.4040 - acc: 0.8599 - val_loss: 0.4342 - val_acc: 0.8450\n",
      "Epoch 30/30\n",
      "71080/71080 [==============================] - 13s 190us/step - loss: 0.3997 - acc: 0.8612 - val_loss: 0.4314 - val_acc: 0.8469\n"
     ]
    },
    {
     "data": {
      "text/plain": [
       "dict_keys(['val_loss', 'val_acc', 'loss', 'acc'])"
      ]
     },
     "execution_count": 42,
     "metadata": {},
     "output_type": "execute_result"
    }
   ],
   "source": [
    "backend.clear_session()\n",
    "\n",
    "model = Sequential()\n",
    "model.add(Embedding(3000, 100, input_length=100))\n",
    "model.add(Flatten())\n",
    "model.add(Dense(40, activation='relu'))\n",
    "model.add(Dropout(0.1))\n",
    "model.add(Dense(10, activation='softmax'))\n",
    "\n",
    "model.compile(optimizer=optimizers.Adam(lr=0.01), loss='categorical_crossentropy', metrics=['accuracy'])\n",
    "model.summary()\n",
    "\n",
    "history = model.fit(train, label_train, epochs=30, batch_size=256, validation_split=0.1)\n",
    "\n",
    "history_dict = history.history\n",
    "history_dict.keys()"
   ]
  },
  {
   "cell_type": "markdown",
   "metadata": {},
   "source": [
    "### Plot Results"
   ]
  },
  {
   "cell_type": "code",
   "execution_count": 45,
   "metadata": {},
   "outputs": [
    {
     "data": {
      "image/png": "[encoded data removed]",
      "text/plain": [
       "<Figure size 864x432 with 1 Axes>"
      ]
     },
     "metadata": {},
     "output_type": "display_data"
    }
   ],
   "source": [
    "epochs = range(1, len(history_dict['acc']) + 1)\n",
    "plt.style.use('seaborn-whitegrid')\n",
    "plt.figure(figsize=(12,6))\n",
    "\n",
    "plt.plot(epochs, history_dict['acc'], 'r', label='Training acc')\n",
    "plt.plot(epochs, history_dict['val_acc'], 'blue', label='Validation acc')\n",
    "plt.title('Training & validation accuracy', fontSize=14)\n",
    "plt.xlabel('Epochs')\n",
    "plt.ylabel('Loss')\n",
    "plt.legend()\n",
    "plt.show()"
   ]
  },
  {
   "cell_type": "code",
   "execution_count": 46,
   "metadata": {},
   "outputs": [
    {
     "data": {
      "image/png": "[encoded data removed]",
      "text/plain": [
       "<Figure size 864x432 with 1 Axes>"
      ]
     },
     "metadata": {},
     "output_type": "display_data"
    }
   ],
   "source": [
    "plt.style.use('seaborn-whitegrid')\n",
    "plt.figure(figsize=(12,6))\n",
    "\n",
    "plt.plot(epochs, history_dict['loss'], 'g', label='Training loss')\n",
    "plt.plot(epochs, history_dict['val_loss'], 'blue', label='Validation loss')\n",
    "\n",
    "plt.title('Training & validation loss',fontSize=14)\n",
    "plt.xlabel('Epochs')\n",
    "plt.ylabel('Loss')\n",
    "plt.legend()\n",
    "plt.show()"
   ]
  },
  {
   "cell_type": "markdown",
   "metadata": {},
   "source": [
    "### Evaluate Performance"
   ]
  },
  {
   "cell_type": "code",
   "execution_count": 47,
   "metadata": {},
   "outputs": [
    {
     "name": "stdout",
     "output_type": "stream",
     "text": [
      "78978/78978 [==============================] - 12s 147us/step\n"
     ]
    },
    {
     "data": {
      "text/plain": [
       "[0.39970333096838123, 0.8609992656182734]"
      ]
     },
     "execution_count": 47,
     "metadata": {},
     "output_type": "execute_result"
    }
   ],
   "source": [
    "model.evaluate(train, label_train)"
   ]
  },
  {
   "cell_type": "code",
   "execution_count": 48,
   "metadata": {},
   "outputs": [
    {
     "name": "stdout",
     "output_type": "stream",
     "text": [
      "19745/19745 [==============================] - 4s 183us/step\n"
     ]
    },
    {
     "data": {
      "text/plain": [
       "[0.429464601383679, 0.8505444416307926]"
      ]
     },
     "execution_count": 48,
     "metadata": {},
     "output_type": "execute_result"
    }
   ],
   "source": [
    "model.evaluate(test, label_test)"
   ]
  },
  {
   "cell_type": "markdown",
   "metadata": {},
   "source": [
    "### Saving Model"
   ]
  },
  {
   "cell_type": "code",
   "execution_count": 49,
   "metadata": {},
   "outputs": [],
   "source": [
    "model.save('models/top_10_conditions_30epochs.h5')"
   ]
  },
  {
   "cell_type": "markdown",
   "metadata": {},
   "source": [
    "## 4.2 Sentiment prediction (Positive, Neutral, Negative)"
   ]
  },
  {
   "cell_type": "markdown",
   "metadata": {},
   "source": [
    "Predict exact rating (1-10) from review would be very difficult and not so useful task."
   ]
  },
  {
   "cell_type": "code",
   "execution_count": 10,
   "metadata": {},
   "outputs": [],
   "source": [
    "def rate(x):\n",
    "    return 'negative' if x < 4 else 'neutral' if x >= 4 and x < 7 else 'positive'\n",
    "\n",
    "top_10_conditions['sentiment'] = top_10_conditions.rating.map(rate)"
   ]
  },
  {
   "cell_type": "code",
   "execution_count": 11,
   "metadata": {},
   "outputs": [
    {
     "data": {
      "text/html": [
       "<div>\n",
       "<style scoped>\n",
       "    .dataframe tbody tr th:only-of-type {\n",
       "        vertical-align: middle;\n",
       "    }\n",
       "\n",
       "    .dataframe tbody tr th {\n",
       "        vertical-align: top;\n",
       "    }\n",
       "\n",
       "    .dataframe thead th {\n",
       "        text-align: right;\n",
       "    }\n",
       "</style>\n",
       "<table border=\"1\" class=\"dataframe\">\n",
       "  <thead>\n",
       "    <tr style=\"text-align: right;\">\n",
       "      <th></th>\n",
       "      <th>uniqueID</th>\n",
       "      <th>drugName</th>\n",
       "      <th>review</th>\n",
       "      <th>rating</th>\n",
       "      <th>date</th>\n",
       "      <th>usefulCount</th>\n",
       "      <th>year</th>\n",
       "      <th>lemm_review</th>\n",
       "      <th>sentiment</th>\n",
       "    </tr>\n",
       "    <tr>\n",
       "      <th>condition</th>\n",
       "      <th></th>\n",
       "      <th></th>\n",
       "      <th></th>\n",
       "      <th></th>\n",
       "      <th></th>\n",
       "      <th></th>\n",
       "      <th></th>\n",
       "      <th></th>\n",
       "      <th></th>\n",
       "    </tr>\n",
       "  </thead>\n",
       "  <tbody>\n",
       "    <tr>\n",
       "      <th>Birth Control</th>\n",
       "      <td>97768</td>\n",
       "      <td>Cyclafem 1 / 35</td>\n",
       "      <td>i have been on this birth control for one cyc...</td>\n",
       "      <td>9</td>\n",
       "      <td>2015-10-22</td>\n",
       "      <td>4</td>\n",
       "      <td>2015</td>\n",
       "      <td>ive first long recommend inactive effect pills...</td>\n",
       "      <td>positive</td>\n",
       "    </tr>\n",
       "    <tr>\n",
       "      <th>Birth Control</th>\n",
       "      <td>215892</td>\n",
       "      <td>Copper</td>\n",
       "      <td>i've had the copper coil for about months now...</td>\n",
       "      <td>6</td>\n",
       "      <td>2016-06-06</td>\n",
       "      <td>1</td>\n",
       "      <td>2016</td>\n",
       "      <td>nearly want think coil faint recommend side pa...</td>\n",
       "      <td>neutral</td>\n",
       "    </tr>\n",
       "    <tr>\n",
       "      <th>Birth Control</th>\n",
       "      <td>71428</td>\n",
       "      <td>Levora</td>\n",
       "      <td>i was on this pill for almost two years it do...</td>\n",
       "      <td>2</td>\n",
       "      <td>2011-04-16</td>\n",
       "      <td>3</td>\n",
       "      <td>2011</td>\n",
       "      <td>cry years first difference husband skin make a...</td>\n",
       "      <td>negative</td>\n",
       "    </tr>\n",
       "    <tr>\n",
       "      <th>Birth Control</th>\n",
       "      <td>79865</td>\n",
       "      <td>Blisovi Fe 1 / 20</td>\n",
       "      <td>i absolutely love this product and recommend ...</td>\n",
       "      <td>10</td>\n",
       "      <td>2017-11-03</td>\n",
       "      <td>4</td>\n",
       "      <td>2017</td>\n",
       "      <td>use recommend long cramp desire since consiste...</td>\n",
       "      <td>positive</td>\n",
       "    </tr>\n",
       "    <tr>\n",
       "      <th>Birth Control</th>\n",
       "      <td>60341</td>\n",
       "      <td>NuvaRing</td>\n",
       "      <td>i was on this for years and birth control pil...</td>\n",
       "      <td>7</td>\n",
       "      <td>2011-06-17</td>\n",
       "      <td>0</td>\n",
       "      <td>2011</td>\n",
       "      <td>friend might pills together drop impactful tel...</td>\n",
       "      <td>positive</td>\n",
       "    </tr>\n",
       "  </tbody>\n",
       "</table>\n",
       "</div>"
      ],
      "text/plain": [
       "               uniqueID           drugName  \\\n",
       "condition                                    \n",
       "Birth Control     97768    Cyclafem 1 / 35   \n",
       "Birth Control    215892             Copper   \n",
       "Birth Control     71428             Levora   \n",
       "Birth Control     79865  Blisovi Fe 1 / 20   \n",
       "Birth Control     60341           NuvaRing   \n",
       "\n",
       "                                                          review  rating  \\\n",
       "condition                                                                  \n",
       "Birth Control   i have been on this birth control for one cyc...       9   \n",
       "Birth Control   i've had the copper coil for about months now...       6   \n",
       "Birth Control   i was on this pill for almost two years it do...       2   \n",
       "Birth Control   i absolutely love this product and recommend ...      10   \n",
       "Birth Control   i was on this for years and birth control pil...       7   \n",
       "\n",
       "                     date  usefulCount  year  \\\n",
       "condition                                      \n",
       "Birth Control  2015-10-22            4  2015   \n",
       "Birth Control  2016-06-06            1  2016   \n",
       "Birth Control  2011-04-16            3  2011   \n",
       "Birth Control  2017-11-03            4  2017   \n",
       "Birth Control  2011-06-17            0  2011   \n",
       "\n",
       "                                                     lemm_review sentiment  \n",
       "condition                                                                   \n",
       "Birth Control  ive first long recommend inactive effect pills...  positive  \n",
       "Birth Control  nearly want think coil faint recommend side pa...   neutral  \n",
       "Birth Control  cry years first difference husband skin make a...  negative  \n",
       "Birth Control  use recommend long cramp desire since consiste...  positive  \n",
       "Birth Control  friend might pills together drop impactful tel...  positive  "
      ]
     },
     "execution_count": 11,
     "metadata": {},
     "output_type": "execute_result"
    }
   ],
   "source": [
    "top_10_conditions.head()"
   ]
  },
  {
   "cell_type": "markdown",
   "metadata": {},
   "source": [
    "### Preparing Sequences for the Model"
   ]
  },
  {
   "cell_type": "code",
   "execution_count": 8,
   "metadata": {},
   "outputs": [],
   "source": [
    "X_t = hot_pad_sequences(top_10_conditions.review)\n",
    "y = hot_label_encoding(top_10_conditions.sentiment)"
   ]
  },
  {
   "cell_type": "code",
   "execution_count": 9,
   "metadata": {},
   "outputs": [],
   "source": [
    "train, test, label_train, label_test = train_test_split(X_t, y, test_size=0.2, random_state=42)"
   ]
  },
  {
   "cell_type": "markdown",
   "metadata": {},
   "source": [
    "### Model"
   ]
  },
  {
   "cell_type": "code",
   "execution_count": 10,
   "metadata": {},
   "outputs": [
    {
     "name": "stdout",
     "output_type": "stream",
     "text": [
      "WARNING:tensorflow:From /Users/seanbird/anaconda3/lib/python3.7/site-packages/tensorflow/python/framework/op_def_library.py:263: colocate_with (from tensorflow.python.framework.ops) is deprecated and will be removed in a future version.\n",
      "Instructions for updating:\n",
      "Colocations handled automatically by placer.\n",
      "WARNING:tensorflow:From /Users/seanbird/anaconda3/lib/python3.7/site-packages/keras/backend/tensorflow_backend.py:3445: calling dropout (from tensorflow.python.ops.nn_ops) with keep_prob is deprecated and will be removed in a future version.\n",
      "Instructions for updating:\n",
      "Please use `rate` instead of `keep_prob`. Rate should be set to `rate = 1 - keep_prob`.\n",
      "_________________________________________________________________\n",
      "Layer (type)                 Output Shape              Param #   \n",
      "=================================================================\n",
      "embedding_1 (Embedding)      (None, 100, 100)          300000    \n",
      "_________________________________________________________________\n",
      "conv1d_1 (Conv1D)            (None, 96, 25)            12525     \n",
      "_________________________________________________________________\n",
      "global_max_pooling1d_1 (Glob (None, 25)                0         \n",
      "_________________________________________________________________\n",
      "dense_1 (Dense)              (None, 40)                1040      \n",
      "_________________________________________________________________\n",
      "dropout_1 (Dropout)          (None, 40)                0         \n",
      "_________________________________________________________________\n",
      "dense_2 (Dense)              (None, 3)                 123       \n",
      "=================================================================\n",
      "Total params: 313,688\n",
      "Trainable params: 313,688\n",
      "Non-trainable params: 0\n",
      "_________________________________________________________________\n"
     ]
    }
   ],
   "source": [
    "backend.clear_session()\n",
    "\n",
    "model = Sequential()\n",
    "model.add(Embedding(3000, 100, input_length=100))\n",
    "model.add(Conv1D(25, 5, activation='relu'))\n",
    "model.add(GlobalMaxPool1D())\n",
    "model.add(Dense(40, activation='relu'))\n",
    "model.add(Dropout(0.1))\n",
    "model.add(Dense(3, activation='softmax'))\n",
    "\n",
    "model.compile(optimizer=optimizers.Adam(lr=0.01), loss='categorical_crossentropy', metrics=['accuracy'])\n",
    "model.summary()"
   ]
  },
  {
   "cell_type": "markdown",
   "metadata": {},
   "source": [
    "### Model Training"
   ]
  },
  {
   "cell_type": "code",
   "execution_count": 11,
   "metadata": {},
   "outputs": [
    {
     "name": "stdout",
     "output_type": "stream",
     "text": [
      "WARNING:tensorflow:From /Users/seanbird/anaconda3/lib/python3.7/site-packages/tensorflow/python/ops/math_ops.py:3066: to_int32 (from tensorflow.python.ops.math_ops) is deprecated and will be removed in a future version.\n",
      "Instructions for updating:\n",
      "Use tf.cast instead.\n",
      "WARNING:tensorflow:From /Users/seanbird/anaconda3/lib/python3.7/site-packages/tensorflow/python/ops/math_grad.py:102: div (from tensorflow.python.ops.math_ops) is deprecated and will be removed in a future version.\n",
      "Instructions for updating:\n",
      "Deprecated in favor of operator or tf.math.divide.\n",
      "Train on 71080 samples, validate on 7898 samples\n",
      "Epoch 1/3\n",
      "71080/71080 [==============================] - 261s 4ms/step - loss: 0.6370 - acc: 0.7446 - val_loss: 0.5436 - val_acc: 0.7802\n",
      "Epoch 2/3\n",
      "71080/71080 [==============================] - 236s 3ms/step - loss: 0.4845 - acc: 0.8036 - val_loss: 0.4930 - val_acc: 0.8049\n",
      "Epoch 3/3\n",
      "71080/71080 [==============================] - 185s 3ms/step - loss: 0.3972 - acc: 0.8418 - val_loss: 0.4597 - val_acc: 0.8212\n"
     ]
    }
   ],
   "source": [
    "history = model.fit(train, label_train, epochs=3, batch_size=256, validation_split=0.1)"
   ]
  },
  {
   "cell_type": "code",
   "execution_count": 12,
   "metadata": {},
   "outputs": [],
   "source": [
    "history_dict = history.history"
   ]
  },
  {
   "cell_type": "markdown",
   "metadata": {},
   "source": [
    "### Model Visualization"
   ]
  },
  {
   "cell_type": "code",
   "execution_count": 13,
   "metadata": {},
   "outputs": [
    {
     "data": {
      "image/png": "[encoded data removed]",
      "text/plain": [
       "<Figure size 864x432 with 1 Axes>"
      ]
     },
     "metadata": {},
     "output_type": "display_data"
    }
   ],
   "source": [
    "epochs = range(1, len(history_dict['acc']) + 1)\n",
    "plt.style.use('seaborn-whitegrid')\n",
    "plt.figure(figsize=(12,6))\n",
    "\n",
    "plt.plot(epochs, history_dict['acc'], 'red', label='Training Accuracy')\n",
    "plt.plot(epochs, history_dict['val_acc'], 'orange', label='Validation Accuracy')\n",
    "plt.title('Training & validation Accuracy', fontSize=14)\n",
    "plt.xlabel('Epochs')\n",
    "plt.ylabel('Accuracy')\n",
    "plt.legend()\n",
    "plt.show()"
   ]
  },
  {
   "cell_type": "code",
   "execution_count": 14,
   "metadata": {},
   "outputs": [
    {
     "data": {
      "image/png": "[encoded data removed]",
      "text/plain": [
       "<Figure size 864x432 with 1 Axes>"
      ]
     },
     "metadata": {},
     "output_type": "display_data"
    }
   ],
   "source": [
    "epochs = range(1, len(history_dict['acc']) + 1)\n",
    "plt.style.use('seaborn-whitegrid')\n",
    "plt.figure(figsize=(12,6))\n",
    "\n",
    "plt.plot(epochs, history_dict['acc'], 'green', label='Training Loss')\n",
    "plt.plot(epochs, history_dict['val_acc'], 'blue', label='Validation Loss')\n",
    "plt.title('Training & validation Loss', fontSize=14)\n",
    "plt.xlabel('Epochs')\n",
    "plt.ylabel('Loss')\n",
    "plt.legend()\n",
    "plt.show()"
   ]
  },
  {
   "cell_type": "markdown",
   "metadata": {},
   "source": [
    "## 4.3 Predicting a Drug Based on Review"
   ]
  },
  {
   "cell_type": "markdown",
   "metadata": {},
   "source": [
    "### Selecting 10 most popular drugs"
   ]
  },
  {
   "cell_type": "code",
   "execution_count": 101,
   "metadata": {},
   "outputs": [],
   "source": [
    "top_drug_for_condition = []\n",
    "for i in top_10_conditions.index.unique():\n",
    "    drug_name = top_10_conditions[top_10_conditions.index==i].drugName.value_counts()[:1].keys()[0]\n",
    "    top_drug_for_condition.append(drug_name)"
   ]
  },
  {
   "cell_type": "code",
   "execution_count": 102,
   "metadata": {},
   "outputs": [],
   "source": [
    "top_drugs = pd.DataFrame()\n",
    "for i in top_drug_for_condition:\n",
    "    top_drugs = pd.concat([top_drugs, top_10_conditions[top_10_conditions.drugName==i]])"
   ]
  },
  {
   "cell_type": "markdown",
   "metadata": {},
   "source": [
    "### Preparing Sequences for the Model"
   ]
  },
  {
   "cell_type": "code",
   "execution_count": 103,
   "metadata": {},
   "outputs": [],
   "source": [
    "X_t = hot_pad_sequences(top_drugs.lemm_review, 3000, maxlen=100)\n",
    "y = hot_label_encoding(top_drugs.drugName)\n",
    "train, test, label_train, label_test = train_test_split(X_t, y, test_size=0.2, random_state=42)"
   ]
  },
  {
   "cell_type": "markdown",
   "metadata": {},
   "source": [
    "### Model Initialization"
   ]
  },
  {
   "cell_type": "code",
   "execution_count": 104,
   "metadata": {},
   "outputs": [
    {
     "name": "stdout",
     "output_type": "stream",
     "text": [
      "_________________________________________________________________\n",
      "Layer (type)                 Output Shape              Param #   \n",
      "=================================================================\n",
      "embedding_1 (Embedding)      (None, 100, 80)           240000    \n",
      "_________________________________________________________________\n",
      "conv1d_1 (Conv1D)            (None, 99, 60)            9660      \n",
      "_________________________________________________________________\n",
      "global_max_pooling1d_1 (Glob (None, 60)                0         \n",
      "_________________________________________________________________\n",
      "dropout_1 (Dropout)          (None, 60)                0         \n",
      "_________________________________________________________________\n",
      "dense_1 (Dense)              (None, 30)                1830      \n",
      "_________________________________________________________________\n",
      "dropout_2 (Dropout)          (None, 30)                0         \n",
      "_________________________________________________________________\n",
      "dense_2 (Dense)              (None, 10)                310       \n",
      "=================================================================\n",
      "Total params: 251,800\n",
      "Trainable params: 251,800\n",
      "Non-trainable params: 0\n",
      "_________________________________________________________________\n"
     ]
    }
   ],
   "source": [
    "backend.clear_session()\n",
    "\n",
    "model = Sequential()\n",
    "model.add(Embedding(3000, 80, input_length=100))\n",
    "model.add(Conv1D(60, 2, activation='relu'))\n",
    "model.add(GlobalMaxPool1D())\n",
    "model.add(Dropout(0.1))\n",
    "model.add(Dense(30, activation='relu'))\n",
    "model.add(Dropout(0.1))\n",
    "model.add(Dense(10, activation='softmax'))\n",
    "\n",
    "model.compile(optimizer='adam', loss='categorical_crossentropy', metrics=['accuracy'])\n",
    "model.summary()"
   ]
  },
  {
   "cell_type": "markdown",
   "metadata": {},
   "source": [
    "### Training"
   ]
  },
  {
   "cell_type": "code",
   "execution_count": 105,
   "metadata": {},
   "outputs": [
    {
     "name": "stdout",
     "output_type": "stream",
     "text": [
      "Train on 9332 samples, validate on 1037 samples\n",
      "Epoch 1/6\n",
      "9332/9332 [==============================] - 39s 4ms/step - loss: 1.7369 - acc: 0.4074 - val_loss: 1.0217 - val_acc: 0.7030\n",
      "Epoch 2/6\n",
      "9332/9332 [==============================] - 31s 3ms/step - loss: 0.6570 - acc: 0.8052 - val_loss: 0.3945 - val_acc: 0.8862\n",
      "Epoch 3/6\n",
      "9332/9332 [==============================] - 32s 3ms/step - loss: 0.3613 - acc: 0.8883 - val_loss: 0.3169 - val_acc: 0.8959\n",
      "Epoch 4/6\n",
      "9332/9332 [==============================] - 34s 4ms/step - loss: 0.2736 - acc: 0.9181 - val_loss: 0.2911 - val_acc: 0.8997\n",
      "Epoch 5/6\n",
      "9332/9332 [==============================] - 36s 4ms/step - loss: 0.2214 - acc: 0.9366 - val_loss: 0.2888 - val_acc: 0.9016\n",
      "Epoch 6/6\n",
      "9332/9332 [==============================] - 35s 4ms/step - loss: 0.1726 - acc: 0.9500 - val_loss: 0.2934 - val_acc: 0.9084\n"
     ]
    }
   ],
   "source": [
    "history = model.fit(train, label_train, epochs=6, validation_split=0.1, batch_size=80)\n",
    "history_dict = history.history"
   ]
  },
  {
   "cell_type": "markdown",
   "metadata": {},
   "source": [
    "### Model Visualization"
   ]
  },
  {
   "cell_type": "code",
   "execution_count": 106,
   "metadata": {},
   "outputs": [
    {
     "data": {
      "image/png": "[encoded data removed]",
      "text/plain": [
       "<Figure size 864x432 with 1 Axes>"
      ]
     },
     "metadata": {},
     "output_type": "display_data"
    }
   ],
   "source": [
    "epochs = range(1, len(history_dict['acc']) + 1)\n",
    "plt.style.use('seaborn-whitegrid')\n",
    "plt.figure(figsize=(12,6))\n",
    "\n",
    "plt.plot(epochs, history_dict['acc'], 'r', label='Training acc')\n",
    "plt.plot(epochs, history_dict['val_acc'], 'blue', label='Validation acc')\n",
    "plt.title('Training & validation accuracy', fontSize=14)\n",
    "plt.xlabel('Epochs')\n",
    "plt.ylabel('Loss')\n",
    "plt.legend()\n",
    "plt.show()"
   ]
  },
  {
   "cell_type": "code",
   "execution_count": 107,
   "metadata": {},
   "outputs": [
    {
     "data": {
      "image/png": "[encoded data removed]",
      "text/plain": [
       "<Figure size 864x432 with 1 Axes>"
      ]
     },
     "metadata": {},
     "output_type": "display_data"
    }
   ],
   "source": [
    "plt.style.use('seaborn-whitegrid')\n",
    "plt.figure(figsize=(12,6))\n",
    "\n",
    "plt.plot(epochs, history_dict['loss'], 'g', label='Training loss')\n",
    "plt.plot(epochs, history_dict['val_loss'], 'blue', label='Validation loss')\n",
    "\n",
    "plt.title('Training & validation loss',fontSize=14)\n",
    "plt.xlabel('Epochs')\n",
    "plt.ylabel('Loss')\n",
    "plt.legend()\n",
    "plt.show()"
   ]
  },
  {
   "cell_type": "code",
   "execution_count": 108,
   "metadata": {},
   "outputs": [
    {
     "name": "stdout",
     "output_type": "stream",
     "text": [
      "10369/10369 [==============================] - 14s 1ms/step\n"
     ]
    },
    {
     "data": {
      "text/plain": [
       "[0.11550691304210813, 0.9718391358858135]"
      ]
     },
     "execution_count": 108,
     "metadata": {},
     "output_type": "execute_result"
    }
   ],
   "source": [
    "model.evaluate(train, label_train)"
   ]
  },
  {
   "cell_type": "code",
   "execution_count": 109,
   "metadata": {},
   "outputs": [
    {
     "name": "stdout",
     "output_type": "stream",
     "text": [
      "2593/2593 [==============================] - 3s 1ms/step\n"
     ]
    },
    {
     "data": {
      "text/plain": [
       "[0.29553299349245304, 0.9032009255688391]"
      ]
     },
     "execution_count": 109,
     "metadata": {},
     "output_type": "execute_result"
    }
   ],
   "source": [
    "model.evaluate(test, label_test)"
   ]
  },
  {
   "cell_type": "markdown",
   "metadata": {},
   "source": [
    "## 4.4 Predicting a Drug for Birth Control Based on Review"
   ]
  },
  {
   "cell_type": "markdown",
   "metadata": {},
   "source": [
    "### Selecting Birth Control Drugs"
   ]
  },
  {
   "cell_type": "code",
   "execution_count": 119,
   "metadata": {},
   "outputs": [],
   "source": [
    "top_birthcontrol_drugs = drugs.set_index('drugName').loc[drugs[drugs.condition=='Birth Control'].drugName.value_counts()[:10].keys()]"
   ]
  },
  {
   "cell_type": "markdown",
   "metadata": {},
   "source": [
    "### Preparing Sequences for the Model"
   ]
  },
  {
   "cell_type": "code",
   "execution_count": 120,
   "metadata": {},
   "outputs": [],
   "source": [
    "X_t = hot_pad_sequences(top_birthcontrol_drugs.lemm_review, 3000, maxlen=100)\n",
    "y = hot_label_encoding(top_birthcontrol_drugs.index)\n",
    "train, test, label_train, label_test = train_test_split(X_t, y, test_size=0.2, random_state=42)"
   ]
  },
  {
   "cell_type": "markdown",
   "metadata": {},
   "source": [
    "### Hypermarameteres Tuning"
   ]
  },
  {
   "cell_type": "code",
   "execution_count": 111,
   "metadata": {},
   "outputs": [
    {
     "name": "stdout",
     "output_type": "stream",
     "text": [
      "Train on 9332 samples, validate on 1037 samples\n",
      "Epoch 1/3\n",
      "9332/9332 [==============================] - 28s 3ms/step - loss: 0.8207 - acc: 0.7200 - val_loss: 0.4382 - val_acc: 0.8554\n",
      "Epoch 2/3\n",
      "9332/9332 [==============================] - 25s 3ms/step - loss: 0.4195 - acc: 0.8597 - val_loss: 0.4399 - val_acc: 0.8611\n",
      "Epoch 3/3\n",
      "9332/9332 [==============================] - 26s 3ms/step - loss: 0.3415 - acc: 0.8894 - val_loss: 0.4822 - val_acc: 0.8611\n",
      "Best Score: 0.866815 using {'conv_filters': 25, 'dropout_rate': 0.1, 'kernel_size': 5, 'lr': 0.01}\n"
     ]
    }
   ],
   "source": [
    "# Using function as a wrapper for a model to feed it into Keras Classifier with parameter we are about to tune\n",
    "def create_model(dropout_rate=0.2, lr=0.01, conv_filters=25, kernel_size=5):\n",
    "    backend.clear_session()\n",
    "    model = Sequential()\n",
    "    model.add(Embedding(3000, 80, input_length=100))\n",
    "    model.add(Conv1D(conv_filters, kernel_size, activation='relu'))\n",
    "    model.add(GlobalMaxPool1D())\n",
    "    model.add(Dropout(dropout_rate))\n",
    "    model.add(Dense(40, activation='relu'))\n",
    "    model.add(Dropout(dropout_rate))\n",
    "    model.add(Dense(10, activation='softmax'))\n",
    "    optimizer = optimizers.Adam(lr=lr)\n",
    "    model.compile(loss='categorical_crossentropy', optimizer=optimizer, metrics=['accuracy'])   \n",
    "    return model\n",
    " \n",
    "# Keras wrapper for skalearn `gridsearch`\n",
    "model = KerasClassifier(build_fn=create_model)\n",
    "\n",
    "# Parameters we are intersted in tuning\n",
    "param_grid = dict(\n",
    "                    dropout_rate = [0.1, 0.2],                \n",
    "                    lr = [0.01, 0.1],\n",
    "                    conv_filters = [20, 25],\n",
    "                    kernel_size=[5, 10],\n",
    "                    )\n",
    "\n",
    "# Comparing models with different parameters, choosing best one\n",
    "grid = GridSearchCV(estimator=model, param_grid=param_grid, n_jobs=-1)\n",
    "grid_result = grid.fit(train, label_train, verbose=1, epochs=3, validation_split=0.1)\n",
    "\n",
    "print(\"Best Score: %f using %s\" % (grid_result.best_score_, grid_result.best_params_))"
   ]
  },
  {
   "cell_type": "markdown",
   "metadata": {},
   "source": [
    "### Final Model With Tuned Hyperparameters"
   ]
  },
  {
   "cell_type": "code",
   "execution_count": 8,
   "metadata": {},
   "outputs": [
    {
     "name": "stdout",
     "output_type": "stream",
     "text": [
      "_________________________________________________________________\n",
      "Layer (type)                 Output Shape              Param #   \n",
      "=================================================================\n",
      "embedding_1 (Embedding)      (None, 100, 80)           240000    \n",
      "_________________________________________________________________\n",
      "conv1d_1 (Conv1D)            (None, 96, 25)            10025     \n",
      "_________________________________________________________________\n",
      "global_max_pooling1d_1 (Glob (None, 25)                0         \n",
      "_________________________________________________________________\n",
      "dense_1 (Dense)              (None, 40)                1040      \n",
      "_________________________________________________________________\n",
      "dropout_1 (Dropout)          (None, 40)                0         \n",
      "_________________________________________________________________\n",
      "dense_2 (Dense)              (None, 10)                410       \n",
      "=================================================================\n",
      "Total params: 251,475\n",
      "Trainable params: 251,475\n",
      "Non-trainable params: 0\n",
      "_________________________________________________________________\n"
     ]
    }
   ],
   "source": [
    "backend.clear_session()\n",
    "\n",
    "model = Sequential()\n",
    "model.add(Embedding(3000, 80, input_length=100))\n",
    "model.add(Conv1D(25, 5, activation='relu'))\n",
    "model.add(GlobalMaxPool1D())\n",
    "model.add(Dense(40, activation='relu'))\n",
    "model.add(Dropout(0.1))\n",
    "model.add(Dense(10, activation='softmax'))\n",
    "\n",
    "model.compile(optimizer=optimizers.Adam(lr=0.01), loss='categorical_crossentropy', metrics=['accuracy'])\n",
    "model.summary()"
   ]
  },
  {
   "cell_type": "code",
   "execution_count": 116,
   "metadata": {},
   "outputs": [
    {
     "name": "stdout",
     "output_type": "stream",
     "text": [
      "Train on 18763 samples, validate on 2085 samples\n",
      "Epoch 1/6\n",
      "18763/18763 [==============================] - 40s 2ms/step - loss: 1.3388 - acc: 0.4405 - val_loss: 1.0142 - val_acc: 0.5516\n",
      "Epoch 2/6\n",
      "18763/18763 [==============================] - 40s 2ms/step - loss: 1.0353 - acc: 0.5371 - val_loss: 0.9793 - val_acc: 0.5602\n",
      "Epoch 3/6\n",
      "18763/18763 [==============================] - 45s 2ms/step - loss: 0.9783 - acc: 0.5514 - val_loss: 0.9770 - val_acc: 0.5520\n",
      "Epoch 4/6\n",
      "18763/18763 [==============================] - 48s 3ms/step - loss: 0.9348 - acc: 0.5700 - val_loss: 0.9864 - val_acc: 0.5482\n",
      "Epoch 5/6\n",
      "18763/18763 [==============================] - 49s 3ms/step - loss: 0.9011 - acc: 0.5760 - val_loss: 0.9829 - val_acc: 0.5607\n",
      "Epoch 6/6\n",
      "18763/18763 [==============================] - 53s 3ms/step - loss: 0.8810 - acc: 0.5814 - val_loss: 0.9852 - val_acc: 0.5573\n"
     ]
    }
   ],
   "source": [
    "history = model.fit(train, label_train, epochs=6, validation_split=0.1, batch_size=80)"
   ]
  },
  {
   "cell_type": "code",
   "execution_count": 122,
   "metadata": {},
   "outputs": [],
   "source": [
    "history_dict = history.history"
   ]
  },
  {
   "cell_type": "code",
   "execution_count": 123,
   "metadata": {},
   "outputs": [
    {
     "data": {
      "image/png": "[encoded data removed]",
      "text/plain": [
       "<Figure size 864x432 with 1 Axes>"
      ]
     },
     "metadata": {},
     "output_type": "display_data"
    }
   ],
   "source": [
    "epochs = range(1, len(history_dict['acc']) + 1)\n",
    "plt.style.use('seaborn-whitegrid')\n",
    "plt.figure(figsize=(12,6))\n",
    "\n",
    "plt.plot(epochs, history_dict['acc'], 'r', label='Training acc')\n",
    "plt.plot(epochs, history_dict['val_acc'], 'blue', label='Validation acc')\n",
    "plt.title('Training & validation accuracy', fontSize=14)\n",
    "plt.xlabel('Epochs')\n",
    "plt.ylabel('Loss')\n",
    "plt.legend()\n",
    "plt.show()"
   ]
  },
  {
   "cell_type": "code",
   "execution_count": 124,
   "metadata": {},
   "outputs": [
    {
     "data": {
      "image/png": "[encoded data removed]",
      "text/plain": [
       "<Figure size 864x432 with 1 Axes>"
      ]
     },
     "metadata": {},
     "output_type": "display_data"
    }
   ],
   "source": [
    "plt.style.use('seaborn-whitegrid')\n",
    "plt.figure(figsize=(12,6))\n",
    "\n",
    "plt.plot(epochs, history_dict['loss'], 'g', label='Training loss')\n",
    "plt.plot(epochs, history_dict['val_loss'], 'blue', label='Validation loss')\n",
    "\n",
    "plt.title('Training & validation loss',fontSize=14)\n",
    "plt.xlabel('Epochs')\n",
    "plt.ylabel('Loss')\n",
    "plt.legend()\n",
    "plt.show()"
   ]
  },
  {
   "cell_type": "markdown",
   "metadata": {},
   "source": [
    "### Model Validation"
   ]
  },
  {
   "cell_type": "code",
   "execution_count": 125,
   "metadata": {},
   "outputs": [
    {
     "name": "stdout",
     "output_type": "stream",
     "text": [
      "20848/20848 [==============================] - 21s 991us/step\n"
     ]
    },
    {
     "data": {
      "text/plain": [
       "[0.7638856178508386, 0.6176132003069839]"
      ]
     },
     "execution_count": 125,
     "metadata": {},
     "output_type": "execute_result"
    }
   ],
   "source": [
    "model.evaluate(train, label_train)"
   ]
  },
  {
   "cell_type": "code",
   "execution_count": 126,
   "metadata": {},
   "outputs": [
    {
     "name": "stdout",
     "output_type": "stream",
     "text": [
      "5212/5212 [==============================] - 5s 1ms/step\n"
     ]
    },
    {
     "data": {
      "text/plain": [
       "[1.0045669936072525, 0.5496930162538863]"
      ]
     },
     "execution_count": 126,
     "metadata": {},
     "output_type": "execute_result"
    }
   ],
   "source": [
    "model.evaluate(test, label_test)"
   ]
  },
  {
   "cell_type": "markdown",
   "metadata": {},
   "source": [
    "**Conclusion**: random guess would give 10% prediction rate, model was able to achieve 55% on testing data, which is not bad considering the fact that drugs have similar effect on patients, hence they used similar words and phrases to describe their experience."
   ]
  },
  {
   "cell_type": "markdown",
   "metadata": {},
   "source": [
    "# 5. Interpret"
   ]
  },
  {
   "cell_type": "markdown",
   "metadata": {},
   "source": [
    "### Advantages of preprocessing text data\n",
    "Text data was cleared from punctuation, words were lemmatized, stop words removed. This step is necessary in most cases, giving several advantages to the model:\n",
    "- make model more robust (keras Tokenizer select words based on frequency, hence removing unnecessary words gives model greater ability to learn from text)\n",
    "- speed up learning process (less dimensions)\n",
    "\n",
    "### Models performance\n",
    "- Predicting condition based on review worked well with 3 layers dense network, scoring 85% accuracy given 30 epochs. Learning process slowed down after 10 epochs, but kept growing with insignificant overfitting. Used 3000 based on word frequency.\n",
    "- Predicting sentiment scored 80% accuracy given 2 epochs. Further training resulted in overfitting.\n",
    "- Predicting drug name based on review by using convolutional network scored 90% accuracy given 6 epochs. Learning process sharply slowed down after second epoch, making model overfitting on training data.\n",
    "- Predicting drug name from the same group (Birth Control) resulted in 55% accuracy by using convolutional network with hyperparameters tuning. "
   ]
  },
  {
   "cell_type": "markdown",
   "metadata": {},
   "source": [
    "# Conclusion"
   ]
  },
  {
   "cell_type": "markdown",
   "metadata": {},
   "source": [
    "- Statistical analysis uncovered relationship between rating of the drug and usefulness of the review: reviews with higher rating made them more popular among readers\n",
    "- Approximately 60% of all reviews have positive sentiment, \n",
    "- Most popular drugs used for birth control\n",
    "- Several types of neural networks (dense, convolutional) has been trained for classification problems with average accuracy of 80%. Higher accuracy was achieved by tuning hyperparameters"
   ]
  },
  {
   "cell_type": "markdown",
   "metadata": {},
   "source": [
    "# Next Steps"
   ]
  },
  {
   "cell_type": "markdown",
   "metadata": {},
   "source": [
    "- Detect side effects\n",
    "- Use bigrams/trigrams in training process to increase accuracy"
   ]
  }
 ],
 "metadata": {
  "kernelspec": {
   "display_name": "Python 3",
   "language": "python",
   "name": "python3"
  },
  "language_info": {
   "codemirror_mode": {
    "name": "ipython",
    "version": 3
   },
   "file_extension": ".py",
   "mimetype": "text/x-python",
   "name": "python",
   "nbconvert_exporter": "python",
   "pygments_lexer": "ipython3",
   "version": "3.7.4"
  }
 },
 "nbformat": 4,
 "nbformat_minor": 2
}
